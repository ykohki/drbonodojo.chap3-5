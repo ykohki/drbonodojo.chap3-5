{
 "cells": [
  {
   "cell_type": "markdown",
   "metadata": {},
   "source": [
    "20191015  \n",
    "### 「データ解析実践道場」3-5発現定量解析"
   ]
  },
  {
   "cell_type": "markdown",
   "metadata": {},
   "source": [
    "VS CODEにcondaで使った仮想環境を対応させる  \n",
    "参考：https://qiita.com/kusanoiskuzuno/items/dabed9c2f538bc6744cf  \n",
    "https://qiita.com/syo_nasu/items/ccc5e5cebe5b5d84a99b"
   ]
  },
  {
   "cell_type": "markdown",
   "metadata": {},
   "source": [
    "% conda create -n drbonodojo anaconda  \n"
   ]
  },
  {
   "cell_type": "markdown",
   "metadata": {},
   "source": [
    "## リファレンスありの発現定量"
   ]
  },
  {
   "cell_type": "markdown",
   "metadata": {},
   "source": [
    "必要なツールのinstall"
   ]
  },
  {
   "cell_type": "code",
   "execution_count": null,
   "metadata": {},
   "outputs": [],
   "source": [
    "%%bash\n",
    "\n",
    "conda install -c bioconda sra-tools -y\n",
    "#並列版でgzip可能なpzip\n",
    "conda install -c anaconda pigz -y\n",
    "#salmonのinstall\n",
    "conda install -c bioconda salmon -y"
   ]
  },
  {
   "cell_type": "markdown",
   "metadata": {},
   "source": [
    "### query配列の取得とその処理"
   ]
  },
  {
   "cell_type": "code",
   "execution_count": 16,
   "metadata": {},
   "outputs": [
    {
     "name": "stdout",
     "output_type": "stream",
     "text": [
      "/Users/yamada/bioinformatics/drbonodojo/datadojo/3-5-gene/sequence\n"
     ]
    }
   ],
   "source": [
    "%cd ./sequence/"
   ]
  },
  {
   "cell_type": "code",
   "execution_count": 3,
   "metadata": {},
   "outputs": [
    {
     "name": "stdout",
     "output_type": "stream",
     "text": [
      "% Total    % Received % Xferd  Average Speed   Time    Time     Time  Current\n",
      "                                 Dload  Upload   Total   Spent    Left  Speed\n",
      "100 1836M  100 1836M    0     0  1576k      0  0:19:53  0:19:53 --:--:--     0\n",
      "curl: (28) FTP response timeout\n",
      "  % Total    % Received % Xferd  Average Speed   Time    Time     Time  Current\n",
      "                                 Dload  Upload   Total   Spent    Left  Speed\n",
      "100 1781M  100 1781M    0     0  2256k      0  0:13:28  0:13:28 --:--:--     0\n",
      "curl: (28) FTP response timeout\n"
     ]
    }
   ],
   "source": [
    "!curl -O ftp://ftp.ddbj.nig.ac.jp/ddbj_database/dra/sra/ByExp/sra/DRX/DRX094/DRX094089/DRR100656/DRR100656.sra\n",
    "!curl -O ftp://ftp.ddbj.nig.ac.jp/ddbj_database/dra/sra/ByExp/sra/DRX/DRX094/DRX094090/DRR100657/DRR100657.sra"
   ]
  },
  {
   "cell_type": "code",
   "execution_count": 17,
   "metadata": {},
   "outputs": [
    {
     "name": "stdout",
     "output_type": "stream",
     "text": [
      "total 7439568\n",
      "-rw-r--r--  1 yamada  staff  1926034982 10 15 01:48 DRR100656.sra\n",
      "-rw-r--r--  1 yamada  staff  1867741221 10 15 02:02 DRR100657.sra\n"
     ]
    }
   ],
   "source": [
    "!ls -l"
   ]
  },
  {
   "cell_type": "code",
   "execution_count": 18,
   "metadata": {},
   "outputs": [
    {
     "name": "stdout",
     "output_type": "stream",
     "text": [
      "spots read      : 23,193,193\n",
      "reads read      : 46,386,386\n",
      "reads written   : 46,386,386\n",
      "\n",
      "real\t1m32.549s\n",
      "user\t1m36.689s\n",
      "sys\t1m35.337s\n"
     ]
    }
   ],
   "source": [
    "!time fasterq-dump DRR100656.sra"
   ]
  },
  {
   "cell_type": "code",
   "execution_count": 19,
   "metadata": {},
   "outputs": [
    {
     "name": "stdout",
     "output_type": "stream",
     "text": [
      "spots read      : 22,695,733\n",
      "reads read      : 45,391,466\n",
      "reads written   : 45,391,466\n",
      "\n",
      "real\t1m16.936s\n",
      "user\t1m39.186s\n",
      "sys\t1m12.872s\n"
     ]
    }
   ],
   "source": [
    "!time fasterq-dump DRR100657.sra"
   ]
  },
  {
   "cell_type": "code",
   "execution_count": 20,
   "metadata": {},
   "outputs": [
    {
     "name": "stdout",
     "output_type": "stream",
     "text": [
      "total 72360624\n",
      "-rw-r--r--  1 yamada  staff  1926034982 10 15 01:48 DRR100656.sra\n",
      "-rw-r--r--  1 yamada  staff  8396394240 10 15 02:21 DRR100656.sra_1.fastq\n",
      "-rw-r--r--  1 yamada  staff  8396394240 10 15 02:21 DRR100656.sra_2.fastq\n",
      "-rw-r--r--  1 yamada  staff  1867741221 10 15 02:02 DRR100657.sra\n",
      "-rw-r--r--  1 yamada  staff  8215871450 10 15 02:22 DRR100657.sra_1.fastq\n",
      "-rw-r--r--  1 yamada  staff  8215871450 10 15 02:22 DRR100657.sra_2.fastq\n"
     ]
    }
   ],
   "source": [
    "#内容の確認\n",
    "!ls -l"
   ]
  },
  {
   "cell_type": "code",
   "execution_count": 23,
   "metadata": {},
   "outputs": [
    {
     "name": "stdout",
     "output_type": "stream",
     "text": [
      "\n",
      "real\t5m46.353s\n",
      "user\t49m0.526s\n",
      "sys\t1m6.177s\n"
     ]
    }
   ],
   "source": [
    "#fastqの圧縮\n",
    "!time pigz *.fastq"
   ]
  },
  {
   "cell_type": "code",
   "execution_count": 24,
   "metadata": {},
   "outputs": [
    {
     "name": "stdout",
     "output_type": "stream",
     "text": [
      "total 19779704\n",
      "-rw-r--r--  1 yamada  staff  1926034982 10 15 01:48 DRR100656.sra\n",
      "-rw-r--r--  1 yamada  staff  1585556555 10 15 02:21 DRR100656.sra_1.fastq.gz\n",
      "-rw-r--r--  1 yamada  staff  1602432563 10 15 02:21 DRR100656.sra_2.fastq.gz\n",
      "-rw-r--r--  1 yamada  staff  1867741221 10 15 02:02 DRR100657.sra\n",
      "-rw-r--r--  1 yamada  staff  1533053895 10 15 02:22 DRR100657.sra_1.fastq.gz\n",
      "-rw-r--r--  1 yamada  staff  1565040147 10 15 02:22 DRR100657.sra_2.fastq.gz\n"
     ]
    }
   ],
   "source": [
    "!ls -l"
   ]
  },
  {
   "cell_type": "markdown",
   "metadata": {},
   "source": [
    "### トランスクリプトーム配列の取得とそのindexの作成"
   ]
  },
  {
   "cell_type": "code",
   "execution_count": 25,
   "metadata": {},
   "outputs": [
    {
     "name": "stdout",
     "output_type": "stream",
     "text": [
      "/Users/yamada/bioinformatics/drbonodojo/datadojo/3-5-gene/reference\n"
     ]
    }
   ],
   "source": [
    "%cd ../reference/"
   ]
  },
  {
   "cell_type": "code",
   "execution_count": 26,
   "metadata": {
    "scrolled": true
   },
   "outputs": [
    {
     "name": "stdout",
     "output_type": "stream",
     "text": [
      "% Total    % Received % Xferd  Average Speed   Time    Time     Time  Current\n",
      "                                 Dload  Upload   Total   Spent    Left  Speed\n",
      "100 69.2M  100 69.2M    0     0  1786k      0  0:00:39  0:00:39 --:--:-- 1162k\n"
     ]
    }
   ],
   "source": [
    "#ヒトのcDNA配列セットをGENCODEから取得\n",
    "#Release 32 (GRCh38.p13)\n",
    "!curl -O ftp://ftp.ebi.ac.uk/pub/databases/gencode/Gencode_human/release_32/gencode.v32.transcripts.fa.gz"
   ]
  },
  {
   "cell_type": "markdown",
   "metadata": {},
   "source": [
    "salmonのindexの作成"
   ]
  },
  {
   "cell_type": "code",
   "execution_count": 29,
   "metadata": {
    "scrolled": false
   },
   "outputs": [
    {
     "name": "stdout",
     "output_type": "stream",
     "text": [
      "Version Info: This is the most recent version of salmon.\n",
      "index [\"human\"] did not previously exist  . . . creating it\n",
      "[2019-10-15 02:32:38.500] [jLog] [info] building index\n",
      "\u001b[00m[2019-10-15 02:32:38.501] [jointLog] [info] [Step 1 of 4] : counting k-mers\n",
      "\u001b[00m\u001b[33m\u001b[1m[2019-10-15 02:32:40.475] [jointLog] [warning] Entry with header [ENST00000473810.1|ENSG00000239255.1|OTTHUMG00000157482.1|OTTHUMT00000348942.1|AC007620.1-201|AC007620.1|25|processed_pseudogene|], had length less than the k-mer length of 31 (perhaps after poly-A clipping)\n",
      "\u001b[00m\u001b[33m\u001b[1m[2019-10-15 02:32:40.617] [jointLog] [warning] Entry with header [ENST00000603775.1|ENSG00000271544.1|OTTHUMG00000184300.1|OTTHUMT00000468575.1|AC006499.8-201|AC006499.8|23|processed_pseudogene|], had length less than the k-mer length of 31 (perhaps after poly-A clipping)\n",
      "\u001b[00m\u001b[33m\u001b[1m[2019-10-15 02:32:42.198] [jointLog] [warning] Entry with header [ENST00000632684.1|ENSG00000282431.1|OTTHUMG00000190602.2|OTTHUMT00000485301.2|TRBD1-202|TRBD1|12|TR_D_gene|], had length less than the k-mer length of 31 (perhaps after poly-A clipping)\n",
      "\u001b[00m\u001b[33m\u001b[1m[2019-10-15 02:32:44.082] [jointLog] [warning] Entry with header [ENST00000626826.1|ENSG00000281344.1|OTTHUMG00000189570.1|OTTHUMT00000479989.1|HELLPAR-201|HELLPAR|205012|lncRNA|] was longer than 200000 nucleotides.  Are you certain that we are indexing a transcriptome and not a genome?\n",
      "\u001b[00m\u001b[33m\u001b[1m[2019-10-15 02:32:44.162] [jointLog] [warning] Entry with header [ENST00000543745.1|ENSG00000255972.1|OTTHUMG00000168883.1|OTTHUMT00000401485.1|AC026333.1-201|AC026333.1|28|processed_pseudogene|], had length less than the k-mer length of 31 (perhaps after poly-A clipping)\n",
      "\u001b[00m\u001b[33m\u001b[1m[2019-10-15 02:32:44.392] [jointLog] [warning] Entry with header [ENST00000415118.1|ENSG00000223997.1|OTTHUMG00000170844.2|OTTHUMT00000410670.2|TRDD1-201|TRDD1|8|TR_D_gene|], had length less than the k-mer length of 31 (perhaps after poly-A clipping)\n",
      "\u001b[00m\u001b[33m\u001b[1m[2019-10-15 02:32:44.392] [jointLog] [warning] Entry with header [ENST00000434970.2|ENSG00000237235.2|OTTHUMG00000170845.2|OTTHUMT00000410671.2|TRDD2-201|TRDD2|9|TR_D_gene|], had length less than the k-mer length of 31 (perhaps after poly-A clipping)\n",
      "\u001b[00m\u001b[33m\u001b[1m[2019-10-15 02:32:44.392] [jointLog] [warning] Entry with header [ENST00000448914.1|ENSG00000228985.1|OTTHUMG00000170846.2|OTTHUMT00000410672.2|TRDD3-201|TRDD3|13|TR_D_gene|], had length less than the k-mer length of 31 (perhaps after poly-A clipping)\n",
      "\u001b[00m\u001b[33m\u001b[1m[2019-10-15 02:32:44.653] [jointLog] [warning] Entry with header [ENST00000439842.1|ENSG00000236597.1|OTTHUMG00000152435.2|OTTHUMT00000326213.2|IGHD7-27-201|IGHD7-27|11|IG_D_gene|], had length less than the k-mer length of 31 (perhaps after poly-A clipping)\n",
      "\u001b[00m\u001b[33m\u001b[1m[2019-10-15 02:32:44.653] [jointLog] [warning] Entry with header [ENST00000390567.1|ENSG00000211907.1|OTTHUMG00000152429.2|OTTHUMT00000326207.2|IGHD1-26-201|IGHD1-26|20|IG_D_gene|], had length less than the k-mer length of 31 (perhaps after poly-A clipping)\n",
      "\u001b[00m\u001b[33m\u001b[1m[2019-10-15 02:32:44.654] [jointLog] [warning] Entry with header [ENST00000452198.1|ENSG00000225825.1|OTTHUMG00000152436.2|OTTHUMT00000326214.2|IGHD6-25-201|IGHD6-25|18|IG_D_gene|], had length less than the k-mer length of 31 (perhaps after poly-A clipping)\n",
      "\u001b[00m\u001b[33m\u001b[1m[2019-10-15 02:32:44.654] [jointLog] [warning] Entry with header [ENST00000390569.1|ENSG00000211909.1|OTTHUMG00000152427.2|OTTHUMT00000326205.2|IGHD5-24-201|IGHD5-24|20|IG_D_gene|], had length less than the k-mer length of 31 (perhaps after poly-A clipping)\n",
      "\u001b[00m\u001b[33m\u001b[1m[2019-10-15 02:32:44.654] [jointLog] [warning] Entry with header [ENST00000437320.1|ENSG00000227196.1|OTTHUMG00000152438.2|OTTHUMT00000326216.2|IGHD4-23-201|IGHD4-23|19|IG_D_gene|], had length less than the k-mer length of 31 (perhaps after poly-A clipping)\n",
      "\u001b[00m\u001b[33m\u001b[1m[2019-10-15 02:32:44.654] [jointLog] [warning] Entry with header [ENST00000390572.1|ENSG00000211912.1|OTTHUMG00000152428.2|OTTHUMT00000326206.2|IGHD2-21-201|IGHD2-21|28|IG_D_gene|], had length less than the k-mer length of 31 (perhaps after poly-A clipping)\n",
      "\u001b[00m\u001b[33m\u001b[1m[2019-10-15 02:32:44.654] [jointLog] [warning] Entry with header [ENST00000450276.1|ENSG00000237020.1|OTTHUMG00000152432.2|OTTHUMT00000326210.2|IGHD1-20-201|IGHD1-20|17|IG_D_gene|], had length less than the k-mer length of 31 (perhaps after poly-A clipping)\n",
      "\u001b[00m\u001b[33m\u001b[1m[2019-10-15 02:32:44.654] [jointLog] [warning] Entry with header [ENST00000390574.1|ENSG00000211914.1|OTTHUMG00000152431.2|OTTHUMT00000326209.2|IGHD6-19-201|IGHD6-19|21|IG_D_gene|], had length less than the k-mer length of 31 (perhaps after poly-A clipping)\n",
      "\u001b[00m\u001b[33m\u001b[1m[2019-10-15 02:32:44.654] [jointLog] [warning] Entry with header [ENST00000390575.1|ENSG00000211915.1|OTTHUMG00000152433.2|OTTHUMT00000326211.2|IGHD5-18-201|IGHD5-18|20|IG_D_gene|], had length less than the k-mer length of 31 (perhaps after poly-A clipping)\n",
      "\u001b[00m\u001b[33m\u001b[1m[2019-10-15 02:32:44.654] [jointLog] [warning] Entry with header [ENST00000431870.1|ENSG00000227800.1|OTTHUMG00000152437.2|OTTHUMT00000326215.2|IGHD4-17-201|IGHD4-17|16|IG_D_gene|], had length less than the k-mer length of 31 (perhaps after poly-A clipping)\n",
      "\u001b[00m\u001b[33m\u001b[1m[2019-10-15 02:32:44.654] [jointLog] [warning] Entry with header [ENST00000451044.1|ENSG00000227108.1|OTTHUMG00000152369.2|OTTHUMT00000326003.2|IGHD1-14-201|IGHD1-14|17|IG_D_gene|], had length less than the k-mer length of 31 (perhaps after poly-A clipping)\n",
      "\u001b[00m\u001b[33m\u001b[1m[2019-10-15 02:32:44.654] [jointLog] [warning] Entry with header [ENST00000390580.1|ENSG00000211920.1|OTTHUMG00000152370.2|OTTHUMT00000326004.2|IGHD6-13-201|IGHD6-13|21|IG_D_gene|], had length less than the k-mer length of 31 (perhaps after poly-A clipping)\n",
      "\u001b[00m\u001b[33m\u001b[1m[2019-10-15 02:32:44.654] [jointLog] [warning] Entry with header [ENST00000390581.1|ENSG00000211921.1|OTTHUMG00000152367.2|OTTHUMT00000326001.2|IGHD5-12-201|IGHD5-12|23|IG_D_gene|], had length less than the k-mer length of 31 (perhaps after poly-A clipping)\n",
      "\u001b[00m\u001b[33m\u001b[1m[2019-10-15 02:32:44.654] [jointLog] [warning] Entry with header [ENST00000431440.2|ENSG00000232543.2|OTTHUMG00000152368.2|OTTHUMT00000326002.2|IGHD4-11-201|IGHD4-11|16|IG_D_gene|], had length less than the k-mer length of 31 (perhaps after poly-A clipping)\n",
      "\u001b[00m\u001b[33m\u001b[1m[2019-10-15 02:32:44.654] [jointLog] [warning] Entry with header [ENST00000430425.1|ENSG00000237197.1|OTTHUMG00000152357.2|OTTHUMT00000325963.2|IGHD1-7-201|IGHD1-7|17|IG_D_gene|], had length less than the k-mer length of 31 (perhaps after poly-A clipping)\n",
      "\u001b[00m\u001b[33m\u001b[1m[2019-10-15 02:32:44.654] [jointLog] [warning] Entry with header [ENST00000454691.1|ENSG00000228131.1|OTTHUMG00000152353.2|OTTHUMT00000325959.2|IGHD6-6-201|IGHD6-6|18|IG_D_gene|], had length less than the k-mer length of 31 (perhaps after poly-A clipping)\n",
      "\u001b[00m\u001b[33m\u001b[1m[2019-10-15 02:32:44.654] [jointLog] [warning] Entry with header [ENST00000390588.1|ENSG00000211928.1|OTTHUMG00000152360.2|OTTHUMT00000325966.2|IGHD5-5-201|IGHD5-5|20|IG_D_gene|], had length less than the k-mer length of 31 (perhaps after poly-A clipping)\n",
      "\u001b[00m\u001b[33m\u001b[1m[2019-10-15 02:32:44.654] [jointLog] [warning] Entry with header [ENST00000414852.1|ENSG00000233655.1|OTTHUMG00000152355.2|OTTHUMT00000325961.2|IGHD4-4-201|IGHD4-4|16|IG_D_gene|], had length less than the k-mer length of 31 (perhaps after poly-A clipping)\n",
      "\u001b[00m\u001b[33m\u001b[1m[2019-10-15 02:32:44.654] [jointLog] [warning] Entry with header [ENST00000454908.1|ENSG00000236170.1|OTTHUMG00000152359.2|OTTHUMT00000325965.2|IGHD1-1-201|IGHD1-1|17|IG_D_gene|], had length less than the k-mer length of 31 (perhaps after poly-A clipping)\n",
      "\u001b[00m\u001b[33m\u001b[1m[2019-10-15 02:32:44.655] [jointLog] [warning] Entry with header [ENST00000518246.1|ENSG00000254045.1|OTTHUMG00000152060.1|OTTHUMT00000325154.1|IGHVIII-22-2-201|IGHVIII-22-2|28|IG_V_pseudogene|], had length less than the k-mer length of 31 (perhaps after poly-A clipping)\n",
      "\u001b[00m\u001b[33m\u001b[1m[2019-10-15 02:32:44.656] [jointLog] [warning] Entry with header [ENST00000604642.1|ENSG00000270961.1|OTTHUMG00000184622.2|OTTHUMT00000468982.2|IGHD5OR15-5A-201|IGHD5OR15-5A|23|IG_D_gene|], had length less than the k-mer length of 31 (perhaps after poly-A clipping)\n",
      "\u001b[00m\u001b[33m\u001b[1m[2019-10-15 02:32:44.656] [jointLog] [warning] Entry with header [ENST00000603326.1|ENSG00000271317.1|OTTHUMG00000184621.3|OTTHUMT00000468981.3|IGHD4OR15-4A-201|IGHD4OR15-4A|19|IG_D_gene|], had length less than the k-mer length of 31 (perhaps after poly-A clipping)\n",
      "\u001b[00m\u001b[33m\u001b[1m[2019-10-15 02:32:44.656] [jointLog] [warning] Entry with header [ENST00000605284.1|ENSG00000271336.1|OTTHUMG00000184580.2|OTTHUMT00000468908.2|IGHD1OR15-1A-201|IGHD1OR15-1A|17|IG_D_gene|], had length less than the k-mer length of 31 (perhaps after poly-A clipping)\n",
      "\u001b[00m\u001b[33m\u001b[1m[2019-10-15 02:32:44.659] [jointLog] [warning] Entry with header [ENST00000604446.1|ENSG00000270824.1|OTTHUMG00000184624.2|OTTHUMT00000468984.2|IGHD5OR15-5B-201|IGHD5OR15-5B|23|IG_D_gene|], had length less than the k-mer length of 31 (perhaps after poly-A clipping)\n",
      "\u001b[00m\u001b[33m\u001b[1m[2019-10-15 02:32:44.659] [jointLog] [warning] Entry with header [ENST00000603693.1|ENSG00000270451.1|OTTHUMG00000184611.3|OTTHUMT00000468945.3|IGHD4OR15-4B-201|IGHD4OR15-4B|19|IG_D_gene|], had length less than the k-mer length of 31 (perhaps after poly-A clipping)\n",
      "\u001b[00m\u001b[33m\u001b[1m[2019-10-15 02:32:44.659] [jointLog] [warning] Entry with header [ENST00000604838.1|ENSG00000270185.1|OTTHUMG00000184585.2|OTTHUMT00000468915.2|IGHD1OR15-1B-201|IGHD1OR15-1B|17|IG_D_gene|], had length less than the k-mer length of 31 (perhaps after poly-A clipping)\n",
      "\u001b[00m\u001b[33m\u001b[1m[2019-10-15 02:32:45.510] [jointLog] [warning] Entry with header [ENST00000579054.1|ENSG00000266416.1|OTTHUMG00000179204.1|OTTHUMT00000445280.1|AC130289.2-201|AC130289.2|28|processed_pseudogene|], had length less than the k-mer length of 31 (perhaps after poly-A clipping)\n",
      "\u001b[00m\u001b[33m\u001b[1m[2019-10-15 02:32:46.141] [jointLog] [warning] Entry with header [ENST00000634174.1|ENSG00000282732.1|OTTHUMG00000191398.1|OTTHUMT00000487783.1|AC073539.7-201|AC073539.7|28|unprocessed_pseudogene|], had length less than the k-mer length of 31 (perhaps after poly-A clipping)\n",
      "\u001b[00mElapsed time: 8.73947s\n",
      "\n",
      "\u001b[33m\u001b[1m[2019-10-15 02:32:47.241] [jointLog] [warning] Removed 854 transcripts that were sequence duplicates of indexed transcripts.\n",
      "\u001b[00m\u001b[33m\u001b[1m[2019-10-15 02:32:47.241] [jointLog] [warning] If you wish to retain duplicate transcripts, please use the `--keepDuplicates` flag\n",
      "\u001b[00m\u001b[00m[2019-10-15 02:32:47.241] [jointLog] [info] Replaced 4 non-ATCG nucleotides\n",
      "\u001b[00m\u001b[00m[2019-10-15 02:32:47.241] [jointLog] [info] Clipped poly-A tails from 1,814 transcripts\n",
      "\u001b[00m\u001b[00m[2019-10-15 02:32:47.255] [jointLog] [info] Building rank-select dictionary and saving to disk\n",
      "\u001b[00m\u001b[00m[2019-10-15 02:32:47.362] [jointLog] [info] done\n",
      "\u001b[00mElapsed time: 0.107418s\n",
      "\u001b[00m[2019-10-15 02:32:47.364] [jointLog] [info] Writing sequence data to file . . . \n",
      "\u001b[00m\u001b[00m[2019-10-15 02:32:48.391] [jointLog] [info] done\n",
      "\u001b[00mElapsed time: 1.02618s\n",
      "\u001b[00m[2019-10-15 02:32:48.391] [jointLog] [info] Building 32-bit suffix array (length of generalized text is 356,944,333)\n",
      "\u001b[00m\u001b[00m[2019-10-15 02:32:48.988] [jointLog] [info] Building suffix array . . . \n",
      "\u001b[00msuccess\n",
      "saving to disk . . .done\n",
      "Elapsed time: 1.77736s\n",
      "done\n",
      "Elapsed time: 41.0734s\n",
      "processed 356,000,000 positions\u001b[00m[2019-10-15 02:36:14.644] [jointLog] [info] khash had 143,394,783 keys\n",
      "\u001b[00m\u001b[00m[2019-10-15 02:36:14.645] [jointLog] [info] saving hash to disk . . . \n",
      "\u001b[00m\u001b[00m[2019-10-15 02:36:25.747] [jointLog] [info] done\n",
      "\u001b[00mElapsed time: 11.1026s\n",
      "[2019-10-15 02:36:28.425] [jLog] [info] done building index\n",
      "\n",
      "real\t3m52.433s\n",
      "user\t3m25.127s\n",
      "sys\t0m23.770s\n"
     ]
    }
   ],
   "source": [
    "!time salmon index -p 4 -t gencode.v32.transcripts.fa.gz -i human --type quasi -k 31 --gencode"
   ]
  },
  {
   "cell_type": "markdown",
   "metadata": {},
   "source": [
    "### salmonによる発現定量"
   ]
  },
  {
   "cell_type": "code",
   "execution_count": 33,
   "metadata": {},
   "outputs": [
    {
     "name": "stdout",
     "output_type": "stream",
     "text": [
      "/Users/yamada/bioinformatics/drbonodojo/datadojo/3-5-gene/reference\n"
     ]
    }
   ],
   "source": [
    "!pwd"
   ]
  },
  {
   "cell_type": "code",
   "execution_count": 36,
   "metadata": {
    "scrolled": false
   },
   "outputs": [
    {
     "name": "stdout",
     "output_type": "stream",
     "text": [
      "Version Info: This is the most recent version of salmon.\n",
      "### salmon (mapping-based) v0.14.1\n",
      "### [ program ] => salmon \n",
      "### [ command ] => quant \n",
      "### [ libType ] => { A }\n",
      "### [ index ] => { human }\n",
      "### [ mates1 ] => { ../sequence/DRR100656.sra_1.fastq.gz }\n",
      "### [ mates2 ] => { ../sequence/DRR100656.sra_2.fastq.gz }\n",
      "### [ validateMappings ] => { }\n",
      "### [ threads ] => { 4 }\n",
      "### [ output ] => { ../quant/DRR100656 }\n",
      "Logs will be written to ../quant/DRR100656/logs\n",
      "\u001b[00m[2019-10-15 02:39:26.724] [jointLog] [info] Fragment incompatibility prior below threshold.  Incompatible fragments will be ignored.\n",
      "\u001b[00m\u001b[00m[2019-10-15 02:39:26.724] [jointLog] [info] Usage of --validateMappings implies use of minScoreFraction. Since not explicitly specified, it is being set to 0.65\n",
      "\u001b[00m\u001b[00m[2019-10-15 02:39:26.724] [jointLog] [info] Usage of --validateMappings, without --hardFilter implies use of range factorization. rangeFactorizationBins is being set to 4\n",
      "\u001b[00m\u001b[00m[2019-10-15 02:39:26.724] [jointLog] [info] Usage of --validateMappings implies a default consensus slack of 0.2. Setting consensusSlack to 0.2.\n",
      "\u001b[00m\u001b[00m[2019-10-15 02:39:26.724] [jointLog] [info] parsing read library format\n",
      "\u001b[00m\u001b[00m[2019-10-15 02:39:26.724] [jointLog] [info] There is 1 library.\n",
      "\u001b[00m\u001b[00m[2019-10-15 02:39:26.790] [jointLog] [info] Loading Quasi index\n",
      "\u001b[00m\u001b[00m[2019-10-15 02:39:26.790] [jointLog] [info] Loading 32-bit quasi index\n",
      "\u001b[00m\u001b[00m[2019-10-15 02:39:26.790] [stderrLog] [info] Loading Suffix Array \n",
      "\u001b[00m\u001b[00m[2019-10-15 02:39:28.416] [stderrLog] [info] Loading Transcript Info \n",
      "\u001b[00m\u001b[00m[2019-10-15 02:39:28.865] [stderrLog] [info] Loading Rank-Select Bit Array\n",
      "\u001b[00m\u001b[00m[2019-10-15 02:39:28.939] [stderrLog] [info] There were 226,608 set bits in the bit array\n",
      "\u001b[00m\u001b[00m[2019-10-15 02:39:28.953] [stderrLog] [info] Computing transcript lengths\n",
      "\u001b[00m\u001b[00m[2019-10-15 02:39:28.953] [stderrLog] [info] Waiting to finish loading hash\n",
      "\u001b[00m\u001b[00m[2019-10-15 02:39:34.801] [stderrLog] [info] Done loading index\n",
      "\u001b[00m\n",
      "\n",
      "\n",
      "\n",
      "\u001b[00m[2019-10-15 02:39:34.801] [jointLog] [info] done\n",
      "\u001b[00m\u001b[00m[2019-10-15 02:39:34.801] [jointLog] [info] Index contained 226,608 targets\n",
      "\u001b[00m\u001b[00m[2019-10-15 02:39:35.984] [jointLog] [info] Automatically detected most likely library type as ISR\n",
      "\u001b[32mprocessed\u001b[31m 500,000 \u001b[32mfragments\u001b[0m\n",
      "\u001b[32mprocessed\u001b[31m 1,000,000 \u001b[32mfragments\u001b[0m\n",
      "\u001b[32mprocessed\u001b[31m 1,500,000 \u001b[32mfragments\u001b[0m\n",
      "\u001b[32mprocessed\u001b[31m 2,000,000 \u001b[32mfragments\u001b[0m\n",
      "\u001b[32mprocessed\u001b[31m 2,500,000 \u001b[32mfragments\u001b[0m\n",
      "\u001b[32mprocessed\u001b[31m 3,000,000 \u001b[32mfragments\u001b[0m\n",
      "\u001b[32mprocessed\u001b[31m 3,500,000 \u001b[32mfragments\u001b[0m\n",
      "\u001b[32mprocessed\u001b[31m 4,000,000 \u001b[32mfragments\u001b[0m\n",
      "\u001b[32mprocessed\u001b[31m 4,500,000 \u001b[32mfragments\u001b[0m\n",
      "\u001b[32mprocessed\u001b[31m 5,000,000 \u001b[32mfragments\u001b[0m\n",
      "\u001b[32mprocessed\u001b[31m 5,500,000 \u001b[32mfragments\u001b[0m\n",
      "\u001b[32mprocessed\u001b[31m 6,000,000 \u001b[32mfragments\u001b[0m\n",
      "\u001b[32mprocessed\u001b[31m 6,500,001 \u001b[32mfragments\u001b[0m\n",
      "\u001b[32mprocessed\u001b[31m 7,000,000 \u001b[32mfragments\u001b[0m\n",
      "\u001b[32mprocessed\u001b[31m 7,500,000 \u001b[32mfragments\u001b[0m\n",
      "\u001b[32mprocessed\u001b[31m 8,000,000 \u001b[32mfragments\u001b[0m\n",
      "\u001b[32mprocessed\u001b[31m 8,500,000 \u001b[32mfragments\u001b[0m\n",
      "\u001b[32mprocessed\u001b[31m 9,000,001 \u001b[32mfragments\u001b[0m\n",
      "\u001b[32mprocessed\u001b[31m 9,500,000 \u001b[32mfragments\u001b[0m\n",
      "\u001b[32mprocessed\u001b[31m 10,000,000 \u001b[32mfragments\u001b[0m\n",
      "\u001b[32mprocessed\u001b[31m 10,500,000 \u001b[32mfragments\u001b[0m\n",
      "\u001b[32mprocessed\u001b[31m 11,000,000 \u001b[32mfragments\u001b[0m\n",
      "\u001b[32mprocessed\u001b[31m 11,500,000 \u001b[32mfragments\u001b[0m\n",
      "\u001b[32mprocessed\u001b[31m 12,000,000 \u001b[32mfragments\u001b[0m\n",
      "\u001b[32mprocessed\u001b[31m 12,500,000 \u001b[32mfragments\u001b[0m\n",
      "\u001b[32mprocessed\u001b[31m 13,000,000 \u001b[32mfragments\u001b[0m\n",
      "\u001b[32mprocessed\u001b[31m 13,500,000 \u001b[32mfragments\u001b[0m\n",
      "\u001b[32mprocessed\u001b[31m 14,000,001 \u001b[32mfragments\u001b[0m\n",
      "\u001b[32mprocessed\u001b[31m 14,500,000 \u001b[32mfragments\u001b[0m\n",
      "\u001b[32mprocessed\u001b[31m 15,000,000 \u001b[32mfragments\u001b[0m\n",
      "\u001b[32mprocessed\u001b[31m 15,500,000 \u001b[32mfragments\u001b[0m\n",
      "\u001b[32mprocessed\u001b[31m 16,000,000 \u001b[32mfragments\u001b[0m\n",
      "\u001b[32mprocessed\u001b[31m 16,500,001 \u001b[32mfragments\u001b[0m\n",
      "\u001b[32mprocessed\u001b[31m 17,000,000 \u001b[32mfragments\u001b[0m\n",
      "\u001b[32mprocessed\u001b[31m 17,500,000 \u001b[32mfragments\u001b[0m\n",
      "\u001b[32mprocessed\u001b[31m 18,000,000 \u001b[32mfragments\u001b[0m\n",
      "\u001b[32mprocessed\u001b[31m 18,500,000 \u001b[32mfragments\u001b[0m\n",
      "\u001b[32mprocessed\u001b[31m 19,000,000 \u001b[32mfragments\u001b[0m\n",
      "\u001b[32mprocessed\u001b[31m 19,500,000 \u001b[32mfragments\u001b[0m\n",
      "\u001b[32mprocessed\u001b[31m 20,000,000 \u001b[32mfragments\u001b[0m\n",
      "\u001b[32mprocessed\u001b[31m 20,500,000 \u001b[32mfragments\u001b[0m\n",
      "\u001b[32mprocessed\u001b[31m 21,000,000 \u001b[32mfragments\u001b[0m\n",
      "\u001b[32mprocessed\u001b[31m 21,500,000 \u001b[32mfragments\u001b[0m\n",
      "\u001b[32mprocessed\u001b[31m 22,000,000 \u001b[32mfragments\u001b[0m\n",
      "\u001b[32mprocessed\u001b[31m 22,500,000 \u001b[32mfragments\u001b[0m\n",
      "\u001b[32mprocessed\u001b[31m 23,000,000 \u001b[32mfragments\u001b[0m\n",
      "hits: 80,578,638, hits per frag:  3.50361\u001b[00m[2019-10-15 02:41:59.319] [jointLog] [info] Thread saw mini-batch with a maximum of 1.80% zero probability fragments\n",
      "\u001b[00m\u001b[00m[2019-10-15 02:41:59.397] [jointLog] [info] Thread saw mini-batch with a maximum of 1.80% zero probability fragments\n",
      "\u001b[00m\u001b[00m[2019-10-15 02:41:59.436] [jointLog] [info] Thread saw mini-batch with a maximum of 1.82% zero probability fragments\n",
      "\u001b[00m\u001b[00m[2019-10-15 02:41:59.439] [jointLog] [info] Thread saw mini-batch with a maximum of 1.84% zero probability fragments\n",
      "\u001b[00m\n",
      "\n",
      "\n",
      "\n",
      "\n",
      "\n",
      "\n",
      "\n",
      "\u001b[00m[2019-10-15 02:41:59.664] [jointLog] [info] Computed 389,534 rich equivalence classes for further processing\n",
      "\u001b[00m\u001b[00m[2019-10-15 02:41:59.664] [jointLog] [info] Counted 19,242,048 total reads in the equivalence classes \n",
      "\u001b[00m\u001b[00m[2019-10-15 02:41:59.669] [jointLog] [info] Number of mappings discarded because of alignment score : 1,367,608\n",
      "\u001b[00m\u001b[00m[2019-10-15 02:41:59.669] [jointLog] [info] Number of fragments entirely discarded because of alignment score : 306,420\n",
      "\u001b[00m\u001b[00m[2019-10-15 02:41:59.669] [jointLog] [info] Number of fragments discarded because they are best-mapped to decoys : 0\n",
      "\u001b[00m\u001b[00m[2019-10-15 02:41:59.669] [jointLog] [info] Number of fragments discarded because they have only dovetail (discordant) mappings : 1,823,271\n",
      "\u001b[00m\u001b[00m[2019-10-15 02:41:59.669] [jointLog] [info] Mapping rate = 82.9642%\n",
      "\n",
      "\u001b[00m\u001b[00m[2019-10-15 02:41:59.669] [jointLog] [info] finished quantifyLibrary()\n",
      "\u001b[00m\u001b[00m[2019-10-15 02:41:59.669] [jointLog] [info] Starting optimizer\n",
      "\u001b[00m\u001b[00m[2019-10-15 02:42:00.319] [jointLog] [info] Marked 0 weighted equivalence classes as degenerate\n",
      "\u001b[00m\u001b[00m[2019-10-15 02:42:00.337] [jointLog] [info] iteration = 0 | max rel diff. = 5211.68\n",
      "\u001b[00m\u001b[00m[2019-10-15 02:42:02.114] [jointLog] [info] iteration = 100 | max rel diff. = 15.5195\n",
      "\u001b[00m\u001b[00m[2019-10-15 02:42:03.878] [jointLog] [info] iteration = 200 | max rel diff. = 2.88186\n",
      "\u001b[00m\u001b[00m[2019-10-15 02:42:05.622] [jointLog] [info] iteration = 300 | max rel diff. = 5.50129\n",
      "\u001b[00m\u001b[00m[2019-10-15 02:42:07.366] [jointLog] [info] iteration = 400 | max rel diff. = 14.8575\n",
      "\u001b[00m\u001b[00m[2019-10-15 02:42:09.108] [jointLog] [info] iteration = 500 | max rel diff. = 2.77743\n",
      "\u001b[00m\u001b[00m[2019-10-15 02:42:10.846] [jointLog] [info] iteration = 600 | max rel diff. = 0.544643\n",
      "\u001b[00m\u001b[00m[2019-10-15 02:42:12.583] [jointLog] [info] iteration = 700 | max rel diff. = 15.2236\n",
      "\u001b[00m\u001b[00m[2019-10-15 02:42:14.334] [jointLog] [info] iteration = 800 | max rel diff. = 6.81345\n",
      "\u001b[00m\u001b[00m[2019-10-15 02:42:16.076] [jointLog] [info] iteration = 900 | max rel diff. = 0.0417535\n",
      "\u001b[00m\u001b[00m[2019-10-15 02:42:17.815] [jointLog] [info] iteration = 1,000 | max rel diff. = 0.0751772\n",
      "\u001b[00m\u001b[00m[2019-10-15 02:42:19.559] [jointLog] [info] iteration = 1,100 | max rel diff. = 0.215996\n",
      "\u001b[00m\u001b[00m[2019-10-15 02:42:20.677] [jointLog] [info] iteration = 1,165 | max rel diff. = 0.00981428\n",
      "\u001b[00m\u001b[00m[2019-10-15 02:42:20.681] [jointLog] [info] Finished optimizer\n",
      "\u001b[00m\u001b[00m[2019-10-15 02:42:20.681] [jointLog] [info] writing output \n",
      "\n",
      "\u001b[00m\n",
      "real\t2m56.501s\n",
      "user\t12m13.806s\n",
      "sys\t0m16.880s\n"
     ]
    }
   ],
   "source": [
    "#DRR100656に対して発現定量\n",
    "!time salmon quant -l A -i human -1 ../sequence/DRR100656.sra_1.fastq.gz  -2 ../sequence/DRR100656.sra_2.fastq.gz \\\n",
    "--validateMappings -p 4 -o ../quant/DRR100656\n",
    "#DRR100657に対して発現定量\n",
    "!time salmon quant -l A -i human -1 ../sequence/DRR100657.sra_1.fastq.gz  -2 ../sequence/DRR100657.sra_2.fastq.gz \\\n",
    "--validateMappings -p 4 -o ../quant/DRR100657"
   ]
  },
  {
   "cell_type": "code",
   "execution_count": 37,
   "metadata": {},
   "outputs": [
    {
     "name": "stdout",
     "output_type": "stream",
     "text": [
      "Version Info: This is the most recent version of salmon.\n",
      "### salmon (mapping-based) v0.14.1\n",
      "### [ program ] => salmon \n",
      "### [ command ] => quant \n",
      "### [ libType ] => { A }\n",
      "### [ index ] => { human }\n",
      "### [ mates1 ] => { ../sequence/DRR100657.sra_1.fastq.gz }\n",
      "### [ mates2 ] => { ../sequence/DRR100657.sra_2.fastq.gz }\n",
      "### [ validateMappings ] => { }\n",
      "### [ threads ] => { 4 }\n",
      "### [ output ] => { ../quant/DRR100657 }\n",
      "Logs will be written to ../quant/DRR100657/logs\n",
      "\u001b[00m[2019-10-15 02:42:23.550] [jointLog] [info] Fragment incompatibility prior below threshold.  Incompatible fragments will be ignored.\n",
      "\u001b[00m\u001b[00m[2019-10-15 02:42:23.550] [jointLog] [info] Usage of --validateMappings implies use of minScoreFraction. Since not explicitly specified, it is being set to 0.65\n",
      "\u001b[00m\u001b[00m[2019-10-15 02:42:23.550] [jointLog] [info] Usage of --validateMappings, without --hardFilter implies use of range factorization. rangeFactorizationBins is being set to 4\n",
      "\u001b[00m\u001b[00m[2019-10-15 02:42:23.550] [jointLog] [info] Usage of --validateMappings implies a default consensus slack of 0.2. Setting consensusSlack to 0.2.\n",
      "\u001b[00m\u001b[00m[2019-10-15 02:42:23.550] [jointLog] [info] parsing read library format\n",
      "\u001b[00m\u001b[00m[2019-10-15 02:42:23.550] [jointLog] [info] There is 1 library.\n",
      "\u001b[00m\u001b[00m[2019-10-15 02:42:23.614] [jointLog] [info] Loading Quasi index\n",
      "\u001b[00m\u001b[00m[2019-10-15 02:42:23.614] [jointLog] [info] Loading 32-bit quasi index\n",
      "\u001b[00m\u001b[00m[2019-10-15 02:42:23.614] [stderrLog] [info] Loading Suffix Array \n",
      "\u001b[00m\u001b[00m[2019-10-15 02:42:25.111] [stderrLog] [info] Loading Transcript Info \n",
      "\u001b[00m\u001b[00m[2019-10-15 02:42:25.519] [stderrLog] [info] Loading Rank-Select Bit Array\n",
      "\u001b[00m\u001b[00m[2019-10-15 02:42:25.583] [stderrLog] [info] There were 226,608 set bits in the bit array\n",
      "\u001b[00m\u001b[00m[2019-10-15 02:42:25.602] [stderrLog] [info] Computing transcript lengths\n",
      "\u001b[00m\u001b[00m[2019-10-15 02:42:25.602] [stderrLog] [info] Waiting to finish loading hash\n",
      "\u001b[00m\n",
      "\n",
      "\n",
      "\n",
      "\u001b[00m[2019-10-15 02:42:30.989] [stderrLog] [info] Done loading index\n",
      "\u001b[00m\u001b[00m[2019-10-15 02:42:30.989] [jointLog] [info] done\n",
      "\u001b[00m\u001b[00m[2019-10-15 02:42:30.989] [jointLog] [info] Index contained 226,608 targets\n",
      "\u001b[00m\u001b[00m[2019-10-15 02:42:32.075] [jointLog] [info] Automatically detected most likely library type as ISR\n",
      "\u001b[32mprocessed\u001b[31m 500,000 \u001b[32mfragments\u001b[0m\n",
      "\u001b[32mprocessed\u001b[31m 1,000,000 \u001b[32mfragments\u001b[0m\n",
      "\u001b[32mprocessed\u001b[31m 1,500,000 \u001b[32mfragments\u001b[0m\n",
      "\u001b[32mprocessed\u001b[31m 2,000,000 \u001b[32mfragments\u001b[0m\n",
      "\u001b[32mprocessed\u001b[31m 2,500,000 \u001b[32mfragments\u001b[0m\n",
      "\u001b[32mprocessed\u001b[31m 3,000,000 \u001b[32mfragments\u001b[0m\n",
      "\u001b[32mprocessed\u001b[31m 3,500,000 \u001b[32mfragments\u001b[0m\n",
      "\u001b[32mprocessed\u001b[31m 4,000,000 \u001b[32mfragments\u001b[0m\n",
      "\u001b[32mprocessed\u001b[31m 4,500,000 \u001b[32mfragments\u001b[0m\n",
      "\u001b[32mprocessed\u001b[31m 5,000,000 \u001b[32mfragments\u001b[0m\n",
      "\u001b[32mprocessed\u001b[31m 5,500,000 \u001b[32mfragments\u001b[0m\n",
      "\u001b[32mprocessed\u001b[31m 6,000,000 \u001b[32mfragments\u001b[0m\n",
      "\u001b[32mprocessed\u001b[31m 6,500,000 \u001b[32mfragments\u001b[0m\n",
      "\u001b[32mprocessed\u001b[31m 7,000,000 \u001b[32mfragments\u001b[0m\n",
      "\u001b[32mprocessed\u001b[31m 7,500,000 \u001b[32mfragments\u001b[0m\n",
      "\u001b[32mprocessed\u001b[31m 8,000,000 \u001b[32mfragments\u001b[0m\n",
      "\u001b[32mprocessed\u001b[31m 8,500,000 \u001b[32mfragments\u001b[0m\n",
      "\u001b[32mprocessed\u001b[31m 9,000,000 \u001b[32mfragments\u001b[0m\n",
      "\u001b[32mprocessed\u001b[31m 9,500,000 \u001b[32mfragments\u001b[0m\n",
      "\u001b[32mprocessed\u001b[31m 10,000,000 \u001b[32mfragments\u001b[0m\n",
      "\u001b[32mprocessed\u001b[31m 10,500,000 \u001b[32mfragments\u001b[0m\n",
      "\u001b[32mprocessed\u001b[31m 11,000,000 \u001b[32mfragments\u001b[0m\n",
      "\u001b[32mprocessed\u001b[31m 11,500,000 \u001b[32mfragments\u001b[0m\n",
      "\u001b[32mprocessed\u001b[31m 12,000,000 \u001b[32mfragments\u001b[0m\n",
      "\u001b[32mprocessed\u001b[31m 12,500,000 \u001b[32mfragments\u001b[0m\n",
      "\u001b[32mprocessed\u001b[31m 13,000,000 \u001b[32mfragments\u001b[0m\n",
      "\u001b[32mprocessed\u001b[31m 13,500,000 \u001b[32mfragments\u001b[0m\n",
      "\u001b[32mprocessed\u001b[31m 14,000,000 \u001b[32mfragments\u001b[0m\n",
      "\u001b[32mprocessed\u001b[31m 14,500,000 \u001b[32mfragments\u001b[0m\n",
      "\u001b[32mprocessed\u001b[31m 15,000,000 \u001b[32mfragments\u001b[0m\n",
      "\u001b[32mprocessed\u001b[31m 15,500,000 \u001b[32mfragments\u001b[0m\n",
      "\u001b[32mprocessed\u001b[31m 16,000,000 \u001b[32mfragments\u001b[0m\n",
      "\u001b[32mprocessed\u001b[31m 16,500,000 \u001b[32mfragments\u001b[0m\n",
      "\u001b[32mprocessed\u001b[31m 17,000,000 \u001b[32mfragments\u001b[0m\n",
      "\u001b[32mprocessed\u001b[31m 17,500,000 \u001b[32mfragments\u001b[0m\n",
      "\u001b[32mprocessed\u001b[31m 18,000,000 \u001b[32mfragments\u001b[0m\n",
      "\u001b[32mprocessed\u001b[31m 18,500,000 \u001b[32mfragments\u001b[0m\n",
      "\u001b[32mprocessed\u001b[31m 19,000,000 \u001b[32mfragments\u001b[0m\n",
      "\u001b[32mprocessed\u001b[31m 19,500,000 \u001b[32mfragments\u001b[0m\n",
      "\u001b[32mprocessed\u001b[31m 20,000,000 \u001b[32mfragments\u001b[0m\n",
      "\u001b[32mprocessed\u001b[31m 20,500,000 \u001b[32mfragments\u001b[0m\n",
      "\u001b[32mprocessed\u001b[31m 21,000,000 \u001b[32mfragments\u001b[0m\n",
      "\u001b[32mprocessed\u001b[31m 21,500,000 \u001b[32mfragments\u001b[0m\n",
      "\u001b[32mprocessed\u001b[31m 22,000,000 \u001b[32mfragments\u001b[0m\n",
      "\u001b[32mprocessed\u001b[31m 22,500,000 \u001b[32mfragments\u001b[0m\n",
      "hits: 77,584,479, hits per frag:  3.45034\u001b[00m[2019-10-15 02:44:48.064] [jointLog] [info] Thread saw mini-batch with a maximum of 1.20% zero probability fragments\n",
      "\u001b[00m\u001b[00m[2019-10-15 02:44:48.069] [jointLog] [info] Thread saw mini-batch with a maximum of 1.20% zero probability fragments\n",
      "\u001b[00m\u001b[00m[2019-10-15 02:44:48.128] [jointLog] [info] Thread saw mini-batch with a maximum of 1.26% zero probability fragments\n",
      "\u001b[00m\u001b[00m[2019-10-15 02:44:48.164] [jointLog] [info] Thread saw mini-batch with a maximum of 1.22% zero probability fragments\n",
      "\u001b[00m\n",
      "\n",
      "\n",
      "\n",
      "\u001b[00m[2019-10-15 02:44:48.383] [jointLog] [info] Computed 385,690 rich equivalence classes for further processing\n",
      "\u001b[00m\u001b[00m[2019-10-15 02:44:48.383] [jointLog] [info] Counted 18,935,653 total reads in the equivalence classes \n",
      "\u001b[00m\n",
      "\n",
      "\n",
      "\n",
      "\u001b[00m[2019-10-15 02:44:48.389] [jointLog] [info] Number of mappings discarded because of alignment score : 1,352,150\n",
      "\u001b[00m\u001b[00m[2019-10-15 02:44:48.389] [jointLog] [info] Number of fragments entirely discarded because of alignment score : 297,777\n",
      "\u001b[00m\u001b[00m[2019-10-15 02:44:48.389] [jointLog] [info] Number of fragments discarded because they are best-mapped to decoys : 0\n",
      "\u001b[00m\u001b[00m[2019-10-15 02:44:48.389] [jointLog] [info] Number of fragments discarded because they have only dovetail (discordant) mappings : 1,825,932\n",
      "\u001b[00m\u001b[00m[2019-10-15 02:44:48.389] [jointLog] [info] Mapping rate = 83.4327%\n",
      "\n",
      "\u001b[00m\u001b[00m[2019-10-15 02:44:48.389] [jointLog] [info] finished quantifyLibrary()\n",
      "\u001b[00m\u001b[00m[2019-10-15 02:44:48.389] [jointLog] [info] Starting optimizer\n",
      "\u001b[00m\u001b[00m[2019-10-15 02:44:48.500] [jointLog] [info] Marked 0 weighted equivalence classes as degenerate\n",
      "\u001b[00m\u001b[00m[2019-10-15 02:44:48.520] [jointLog] [info] iteration = 0 | max rel diff. = 5172.74\n",
      "\u001b[00m\u001b[00m[2019-10-15 02:44:50.245] [jointLog] [info] iteration = 100 | max rel diff. = 18.845\n",
      "\u001b[00m\u001b[00m[2019-10-15 02:44:51.947] [jointLog] [info] iteration = 200 | max rel diff. = 7.05496\n",
      "\u001b[00m\u001b[00m[2019-10-15 02:44:53.657] [jointLog] [info] iteration = 300 | max rel diff. = 11.7775\n",
      "\u001b[00m\u001b[00m[2019-10-15 02:44:55.360] [jointLog] [info] iteration = 400 | max rel diff. = 3.85827\n",
      "\u001b[00m\u001b[00m[2019-10-15 02:44:57.061] [jointLog] [info] iteration = 500 | max rel diff. = 7.36725\n",
      "\u001b[00m\u001b[00m[2019-10-15 02:44:58.759] [jointLog] [info] iteration = 600 | max rel diff. = 8.31266\n",
      "\u001b[00m\u001b[00m[2019-10-15 02:45:00.451] [jointLog] [info] iteration = 700 | max rel diff. = 0.298212\n",
      "\u001b[00m\u001b[00m[2019-10-15 02:45:02.151] [jointLog] [info] iteration = 800 | max rel diff. = 0.206039\n",
      "\u001b[00m\u001b[00m[2019-10-15 02:45:03.861] [jointLog] [info] iteration = 900 | max rel diff. = 1.05531\n",
      "\u001b[00m\u001b[00m[2019-10-15 02:45:05.564] [jointLog] [info] iteration = 1,000 | max rel diff. = 2.15599\n",
      "\u001b[00m\u001b[00m[2019-10-15 02:45:07.263] [jointLog] [info] iteration = 1,100 | max rel diff. = 0.066145\n",
      "\u001b[00m\u001b[00m[2019-10-15 02:45:08.961] [jointLog] [info] iteration = 1,200 | max rel diff. = 0.0166226\n",
      "\u001b[00m\u001b[00m[2019-10-15 02:45:10.660] [jointLog] [info] iteration = 1,300 | max rel diff. = 0.16658\n",
      "\u001b[00m\u001b[00m[2019-10-15 02:45:12.361] [jointLog] [info] iteration = 1,400 | max rel diff. = 0.0702025\n",
      "\u001b[00m\u001b[00m[2019-10-15 02:45:14.062] [jointLog] [info] iteration = 1,500 | max rel diff. = 0.11334\n",
      "\u001b[00m\u001b[00m[2019-10-15 02:45:14.401] [jointLog] [info] iteration = 1,521 | max rel diff. = 0.00740164\n",
      "\u001b[00m\u001b[00m[2019-10-15 02:45:14.405] [jointLog] [info] Finished optimizer\n",
      "\u001b[00m\u001b[00m[2019-10-15 02:45:14.405] [jointLog] [info] writing output \n",
      "\n",
      "\u001b[00m\n",
      "real\t2m53.370s\n",
      "user\t12m2.015s\n",
      "sys\t0m15.828s\n"
     ]
    }
   ],
   "source": [
    "#DRR100657に対して発現定量\n",
    "!time salmon quant -l A -i human -1 ../sequence/DRR100657.sra_1.fastq.gz  -2 ../sequence/DRR100657.sra_2.fastq.gz \\\n",
    "--validateMappings -p 4 -o ../quant/DRR100657"
   ]
  },
  {
   "cell_type": "code",
   "execution_count": 38,
   "metadata": {},
   "outputs": [
    {
     "name": "stdout",
     "output_type": "stream",
     "text": [
      "Name    Length  EffectiveLength TPM     NumReads\u001b[m\n",
      "ENST00000456328.2       1657    1483.229        0.000000        0.000\u001b[m\n",
      "ENST00000450305.2       632     458.320 0.000000        0.000\u001b[m\n",
      "ENST00000488147.1       1351    1177.229        14.260273       267.772\u001b[m\n",
      "ENST00000619216.1       68      1.779   0.000000        0.000\u001b[m\n",
      "ENST00000473358.1       712     538.294 0.221648        1.903\u001b[m\n",
      "ENST00000469289.1       535     361.477 0.000000        0.000\u001b[m\n",
      "ENST00000607096.1       138     18.764  0.000000        0.000\u001b[m\n",
      "ENST00000417324.1       1187    1013.229        0.000000        0.000\u001b[m\n",
      "ENST00000461467.1       590     416.353 0.000000        0.000\u001b[m\n",
      "ENST00000606857.1       840     666.283 0.000000        0.000\u001b[m\n",
      "ENST00000642116.1       1414    1240.229        0.000000        0.000\u001b[m\n",
      "ENST00000492842.2       939     765.262 0.000000        0.000\u001b[m\n",
      "ENST00000641515.2       2618    2444.229        0.000000        0.000\u001b[m\n",
      "ENST00000335137.4       1054    880.229 0.000000        0.000\u001b[m\n",
      "ENST00000466430.5       2748    2574.229        0.439110        18.030\u001b[m\n",
      "ENST00000477740.5       491     317.702 0.000000        0.000\u001b[m\n",
      "ENST00000471248.1       629     455.321 0.000000        0.000\u001b[m\n",
      "ENST00000610542.1       723     549.292 0.000000        0.000\u001b[m\n",
      "ENST00000453576.2       336     168.092 0.000000        0.000\u001b[m\n",
      "ENST00000495576.1       1319    1145.229        0.799758        14.609\u001b[m\n",
      "ENST00000442987.3       3812    3638.229        0.344638        20.000\u001b[m\n",
      "ENST00000494149.2       755     581.291 0.785836        7.286\u001b[m\n",
      "\u001b[KENST00000595919.1       284     122.053 0.000000        0.000\u001b[m\n",
      ":\u001b[K"
     ]
    }
   ],
   "source": [
    "#出力ファイルの確認\n",
    "!less ../quant/DRR100656/quant.sf"
   ]
  },
  {
   "cell_type": "markdown",
   "metadata": {},
   "source": [
    "### Bioconductorのパッケージを使って遺伝子ごとの発現値へ変換"
   ]
  },
  {
   "cell_type": "code",
   "execution_count": 40,
   "metadata": {},
   "outputs": [
    {
     "name": "stdout",
     "output_type": "stream",
     "text": [
      "% Total    % Received % Xferd  Average Speed   Time    Time     Time  Current\n",
      "                                 Dload  Upload   Total   Spent    Left  Speed\n",
      "100 1411k  100 1411k    0     0   144k      0  0:00:09  0:00:09 --:--:--  313k\n"
     ]
    }
   ],
   "source": [
    "#メタデータをGENCODEよりダウンロード\n",
    "!curl -O ftp://ftp.ebi.ac.uk/pub/databases/gencode/Gencode_human/release_32/gencode.v32.metadata.HGNC.gz"
   ]
  },
  {
   "cell_type": "code",
   "execution_count": 41,
   "metadata": {},
   "outputs": [
    {
     "name": "stdout",
     "output_type": "stream",
     "text": [
      "/Users/yamada/bioinformatics/drbonodojo/datadojo/3-5-gene/quant\n"
     ]
    }
   ],
   "source": [
    "%cd ../quant"
   ]
  },
  {
   "cell_type": "code",
   "execution_count": 43,
   "metadata": {},
   "outputs": [
    {
     "name": "stdout",
     "output_type": "stream",
     "text": [
      "\u001b[1m\u001b[36mDRR100656\u001b[m\u001b[m \u001b[1m\u001b[36mDRR100657\u001b[m\u001b[m list.csv\n"
     ]
    }
   ],
   "source": [
    "!ls"
   ]
  },
  {
   "cell_type": "code",
   "execution_count": 44,
   "metadata": {},
   "outputs": [
    {
     "name": "stdout",
     "output_type": "stream",
     "text": [
      "name,SRR,Layout\u001b[m\n",
      "RCC4-EV,DRR100656,PE\u001b[m\n",
      "RCC4-VHL,DRR100657,PE\u001b[m\n",
      "\u001b[K\u001b[7m(END)\u001b[m\u001b[K"
     ]
    }
   ],
   "source": [
    "!less list.csv"
   ]
  },
  {
   "cell_type": "code",
   "execution_count": 45,
   "metadata": {},
   "outputs": [
    {
     "name": "stdout",
     "output_type": "stream",
     "text": [
      "要求されたパッケージ BiocManager をロード中です \n",
      "Bioconductor version 3.9 (BiocManager 1.30.4), R 3.6.0 (2019-04-26)\n",
      "Update old packages: 'backports', 'BiocManager', 'biomaRt', 'callr', 'curl',\n",
      "  'data.table', 'devtools', 'digest', 'ellipsis', 'ensembldb', 'gargle',\n",
      "  'htmlTable', 'htmltools', 'htmlwidgets', 'IRanges', 'later', 'lintr', 'mgcv',\n",
      "  'pingr', 'pkgbuild', 'pkgconfig', 'promises', 'RcppArmadillo', 'regioneR',\n",
      "  'rhdf5', 'Rhdf5lib', 'Rhtslib', 'rmarkdown', 'Rsamtools', 'shiny',\n",
      "  'stringdist', 'xfun'\n",
      "Bioconductor version 3.9 (BiocManager 1.30.4), R 3.6.0 (2019-04-26)\n",
      "Installing package(s) 'tximport'\n",
      " URL 'https://bioconductor.org/packages/3.9/bioc/bin/macosx/el-capitan/contrib/3.6/tximport_1.12.3.tgz' を試しています \n",
      "Content type 'application/x-gzip' length 264981 bytes (258 KB)\n",
      "==================================================\n",
      "downloaded 258 KB\n",
      "\n",
      "\n",
      "The downloaded binary packages are in\n",
      "\t/var/folders/8g/l6tj9lds0z3b15_dc_wgvy9w0000gn/T//Rtmpx32bKd/downloaded_packages\n",
      "Update old packages: 'backports', 'BiocManager', 'biomaRt', 'callr', 'curl',\n",
      "  'data.table', 'devtools', 'digest', 'ellipsis', 'ensembldb', 'gargle',\n",
      "  'htmlTable', 'htmltools', 'htmlwidgets', 'IRanges', 'later', 'lintr', 'mgcv',\n",
      "  'pingr', 'pkgbuild', 'pkgconfig', 'promises', 'RcppArmadillo', 'regioneR',\n",
      "  'rhdf5', 'Rhdf5lib', 'Rhtslib', 'rmarkdown', 'Rsamtools', 'shiny',\n",
      "  'stringdist', 'xfun'\n",
      "Bioconductor version 3.9 (BiocManager 1.30.4), R 3.6.0 (2019-04-26)\n",
      "Installing package(s) 'readr'\n",
      " URL 'https://cran.rstudio.com/bin/macosx/el-capitan/contrib/3.6/readr_1.3.1.tgz' を試しています \n",
      "Content type 'application/x-gzip' length 792657 bytes (774 KB)\n",
      "==================================================\n",
      "downloaded 774 KB\n",
      "\n",
      "\n",
      "The downloaded binary packages are in\n",
      "\t/var/folders/8g/l6tj9lds0z3b15_dc_wgvy9w0000gn/T//Rtmpx32bKd/downloaded_packages\n",
      "Update old packages: 'backports', 'BiocManager', 'biomaRt', 'callr', 'curl',\n",
      "  'data.table', 'devtools', 'digest', 'ellipsis', 'ensembldb', 'gargle',\n",
      "  'htmlTable', 'htmltools', 'htmlwidgets', 'IRanges', 'later', 'lintr', 'mgcv',\n",
      "  'pingr', 'pkgbuild', 'pkgconfig', 'promises', 'RcppArmadillo', 'regioneR',\n",
      "  'rhdf5', 'Rhdf5lib', 'Rhtslib', 'rmarkdown', 'Rsamtools', 'shiny',\n",
      "  'stringdist', 'xfun'\n",
      "Bioconductor version 3.9 (BiocManager 1.30.4), R 3.6.0 (2019-04-26)\n",
      "Installing package(s) 'jsonlite'\n",
      " URL 'https://cran.rstudio.com/bin/macosx/el-capitan/contrib/3.6/jsonlite_1.6.tgz' を試しています \n",
      "Content type 'application/x-gzip' length 1117755 bytes (1.1 MB)\n",
      "==================================================\n",
      "downloaded 1.1 MB\n",
      "\n",
      "\n",
      "The downloaded binary packages are in\n",
      "\t/var/folders/8g/l6tj9lds0z3b15_dc_wgvy9w0000gn/T//Rtmpx32bKd/downloaded_packages\n",
      "Update old packages: 'backports', 'BiocManager', 'biomaRt', 'callr', 'curl',\n",
      "  'data.table', 'devtools', 'digest', 'ellipsis', 'ensembldb', 'gargle',\n",
      "  'htmlTable', 'htmltools', 'htmlwidgets', 'IRanges', 'later', 'lintr', 'mgcv',\n",
      "  'pingr', 'pkgbuild', 'pkgconfig', 'promises', 'RcppArmadillo', 'regioneR',\n",
      "  'rhdf5', 'Rhdf5lib', 'Rhtslib', 'rmarkdown', 'Rsamtools', 'shiny',\n",
      "  'stringdist', 'xfun'\n"
     ]
    }
   ],
   "source": [
    "#install\n",
    "!Rscript ../install.R"
   ]
  },
  {
   "cell_type": "code",
   "execution_count": 46,
   "metadata": {},
   "outputs": [
    {
     "name": "stdout",
     "output_type": "stream",
     "text": [
      "Parsed with column specification:\n",
      "cols(\n",
      "  TXNAME = \u001b[31mcol_character()\u001b[39m,\n",
      "  GENEID = \u001b[31mcol_character()\u001b[39m\n",
      ")\n",
      " 警告:  211406 parsing failures.\n",
      "row col  expected    actual                                        file\n",
      "  1  -- 2 columns 3 columns '../reference/gencode.v32.metadata.HGNC.gz'\n",
      "  2  -- 2 columns 3 columns '../reference/gencode.v32.metadata.HGNC.gz'\n",
      "  3  -- 2 columns 3 columns '../reference/gencode.v32.metadata.HGNC.gz'\n",
      "  4  -- 2 columns 3 columns '../reference/gencode.v32.metadata.HGNC.gz'\n",
      "  5  -- 2 columns 3 columns '../reference/gencode.v32.metadata.HGNC.gz'\n",
      "... ... ......... ......... ...........................................\n",
      "See problems(...) for more details.\n",
      "\n",
      "reading in files with read_tsv\n",
      "12\n",
      "transcripts missing from tx2gene: 34020\n",
      "summarizing abundance\n",
      "summarizing counts\n",
      "summarizing length\n"
     ]
    }
   ],
   "source": [
    "#tximport実行\n",
    "!Rscript ../tximport_Rm.R ../reference/gencode.v32.metadata.HGNC.gz list.csv quant.tsv"
   ]
  },
  {
   "cell_type": "code",
   "execution_count": 47,
   "metadata": {},
   "outputs": [
    {
     "name": "stdout",
     "output_type": "stream",
     "text": [
      "RCC4-EV RCC4-VHL\u001b[m\n",
      "A1BG    3.92445155170309        0.697106363218438\u001b[m\n",
      "A1BG-AS1        0       0\u001b[m\n",
      "A1CF    0       0\u001b[m\n",
      "A2M     0       0\u001b[m\n",
      "A2M-AS1 0.601678863865482       0\u001b[m\n",
      "A2ML1   0       0\u001b[m\n",
      "A2ML1-AS1       8.70108134746648        0\u001b[m\n",
      "A2ML1-AS2       0       0\u001b[m\n",
      "A2MP1   0       0\u001b[m\n",
      "A3GALT2 1.42989764505554        7.21262476602968\u001b[m\n",
      "A4GALT  102.091561825276        117.804609985991\u001b[m\n",
      "A4GNT   0       0\u001b[m\n",
      "AAAS    765.12055758634 546.694487791535\u001b[m\n",
      "AACS    278.445565977444        188.751715325803\u001b[m\n",
      "AACSP1  1.37560631568988        4.56879294806594\u001b[m\n",
      "AADAC   0       0\u001b[m\n",
      "AADACL2 0       0\u001b[m\n",
      "AADACL2-AS1     0       0\u001b[m\n",
      "AADACL3 0       0\u001b[m\n",
      "AADACL4 0       0\u001b[m\n",
      "AADACP1 0       0\u001b[m\n",
      "AADAT   340.408358964415        180.039620070636\u001b[m\n",
      "\u001b[KAAGAB   357.485935823633        730.866280251941\u001b[m\n",
      ":\u001b[K"
     ]
    }
   ],
   "source": [
    "!less quant.tsv"
   ]
  },
  {
   "cell_type": "markdown",
   "metadata": {},
   "source": [
    "### 発現差解析"
   ]
  },
  {
   "cell_type": "code",
   "execution_count": 48,
   "metadata": {
    "scrolled": false
   },
   "outputs": [
    {
     "name": "stdout",
     "output_type": "stream",
     "text": [
      "\u001b7\u001b[?47h\u001b[?1h\u001b=MT-ATP8             1154707.2642324     1238937.87540313\u001b[m\n",
      "MT-CO2              822065.473720668    699460.579340996\u001b[m\n",
      "MT-ATP6             581922.650570746    623492.825639095\u001b[m\n",
      "MT-ND4L             497137.948251018    509287.447864993\u001b[m\n",
      "MT-ND4              415765.86720533     393920.765178155\u001b[m\n",
      "MT-CO3              375430.483813065    464936.061634703\u001b[m\n",
      "MT-CO1              334904.474808606    385752.817508345\u001b[m\n",
      "TMSB10              330981.937069843    161547.00798141\u001b[m\n",
      "MT-ND3              243238.613474186    202617.651407019\u001b[m\n",
      "EEF1A1              213295.080132293    174340.256390233\u001b[m\n",
      "MT-ND2              174127.097686394    170209.671900432\u001b[m\n",
      "MT-RNR2             164731.009265945    132193.481287964\u001b[m\n",
      "MT-CYB              161411.512361582    168821.618878088\u001b[m\n",
      "GAPDH               135805.896736601    88068.2737881549\u001b[m\n",
      "ACTB                115557.834988224    122077.213821809\u001b[m\n",
      "RPL41               90687.7547876985    97086.2916875528\u001b[m\n",
      "LDHA                86783.1924567909    21968.8774296433\u001b[m\n",
      "MTATP6P1            86261.9694111367    90123.9702433281\u001b[m\n",
      "MT-ND1              80529.0863649636    91247.0041158248\u001b[m\n",
      "MT-ND5              77788.2219747389    109462.325082572\u001b[m\n",
      "ACTG1               77100.2524177464    42828.2325920809\u001b[m\n",
      "FTH1                76201.3090984889    120944.553142564\u001b[m\n",
      "FTL                 68969.1916586146    56402.2481511593\u001b[m\n",
      "\u001b[KPPIA                68928.829144588     70231.7228137815\u001b[m\n",
      ":\u001b[K"
     ]
    }
   ],
   "source": [
    "#sortコマンドで、発現が高いものから順に並び替える\n",
    "!sort -k2 -rn quant.tsv | less -x 20"
   ]
  },
  {
   "cell_type": "code",
   "execution_count": 49,
   "metadata": {},
   "outputs": [],
   "source": [
    "#一律に発現量に1を足してから、発現比を計算し、高いものから順に並べる。\n",
    "!awk '{ print $1\"\\t\"($2+1)/($3+1)}' quant.tsv | \\\n",
    "sort -k2 -rn > DEG.txt"
   ]
  },
  {
   "cell_type": "code",
   "execution_count": 50,
   "metadata": {},
   "outputs": [
    {
     "name": "stdout",
     "output_type": "stream",
     "text": [
      "MT-TC   3643.94\u001b[m\n",
      "RNU6-33P        2411.77\u001b[m\n",
      "CA9     1690.64\u001b[m\n",
      "MIR6858 908.446\u001b[m\n",
      "MIR6855 908.446\u001b[m\n",
      "MIR6784 908.446\u001b[m\n",
      "SNORD19C        760.531\u001b[m\n",
      "MIR3132 745.663\u001b[m\n",
      "SNORD60 719.024\u001b[m\n",
      "MT-TP   683.471\u001b[m\n",
      "MIR6804 683.471\u001b[m\n",
      "KRT81   662.981\u001b[m\n",
      "NDUFA4L2        534.95\u001b[m\n",
      "MIR6505 470.088\u001b[m\n",
      "SMIM11B 431.906\u001b[m\n",
      "MIR941-1        419.721\u001b[m\n",
      "MIR6832 419.721\u001b[m\n",
      "MIR4730 380.765\u001b[m\n",
      "SNORD6  373.835\u001b[m\n",
      "MIR3197 373.835\u001b[m\n",
      "MIR590  371.521\u001b[m\n",
      "SRP9P1  366.882\u001b[m\n",
      "MIR3192 366.079\u001b[m\n",
      "\u001b[KCALHM6  343.18\u001b[m\n",
      ":\u001b[K"
     ]
    }
   ],
   "source": [
    "!less DEG.txt"
   ]
  },
  {
   "cell_type": "code",
   "execution_count": 109,
   "metadata": {},
   "outputs": [
    {
     "name": "stdout",
     "output_type": "stream",
     "text": [
      "/Users/yamada/bioinformatics/drbonodojo/datadojo/3-5-gene/quant\n"
     ]
    }
   ],
   "source": [
    "%cd ../quant"
   ]
  },
  {
   "cell_type": "code",
   "execution_count": 110,
   "metadata": {},
   "outputs": [
    {
     "name": "stdout",
     "output_type": "stream",
     "text": [
      "MT-TC\n",
      "RNU6-33P\n",
      "CA9\n",
      "MIR6858\n",
      "MIR6855\n",
      "MIR6784\n",
      "SNORD19C\n",
      "MIR3132\n",
      "SNORD60\n",
      "MT-TP\n",
      "MIR6804\n",
      "KRT81\n",
      "NDUFA4L2\n",
      "MIR6505\n",
      "SMIM11B\n",
      "MIR941-1\n",
      "MIR6832\n",
      "MIR4730\n",
      "SNORD6\n",
      "MIR3197\n"
     ]
    }
   ],
   "source": [
    "#DEGのリストからエンリッチメント解析を行う。\n",
    "#第1カラムのIDだけ抽出\n",
    "!cut -f 1 DEG.txt | head -20"
   ]
  },
  {
   "cell_type": "code",
   "execution_count": 111,
   "metadata": {},
   "outputs": [],
   "source": [
    "!cut -f 1 DEG.txt | head -20 > gene.txt"
   ]
  },
  {
   "cell_type": "code",
   "execution_count": 52,
   "metadata": {},
   "outputs": [],
   "source": [
    "#metascapeをやってみる"
   ]
  },
  {
   "cell_type": "markdown",
   "metadata": {},
   "source": [
    "### 多数のサンプルを一気に処理する"
   ]
  },
  {
   "cell_type": "code",
   "execution_count": 54,
   "metadata": {},
   "outputs": [
    {
     "name": "stdout",
     "output_type": "stream",
     "text": [
      "/Users/yamada/bioinformatics/drbonodojo/datadojo/3-5-gene/multi_sample\n"
     ]
    }
   ],
   "source": [
    "%cd ../multi_sample/"
   ]
  },
  {
   "cell_type": "code",
   "execution_count": 57,
   "metadata": {},
   "outputs": [
    {
     "name": "stdout",
     "output_type": "stream",
     "text": [
      "% Total    % Received % Xferd  Average Speed   Time    Time     Time  Current\n",
      "                                 Dload  Upload   Total   Spent    Left  Speed\n",
      "100 10536  100 10536    0     0  85658      0 --:--:-- --:--:-- --:--:-- 86360\n"
     ]
    }
   ],
   "source": [
    "#DBCLS SRAのAPIを叩いて、結果を保存\n",
    "!curl \"http://unagi-inu-api.bmu.jp/api/details?db=sra&id=DRP003401\" > DRP003401.json"
   ]
  },
  {
   "cell_type": "markdown",
   "metadata": {},
   "source": [
    "DRR.pyを使う"
   ]
  },
  {
   "cell_type": "code",
   "execution_count": 58,
   "metadata": {},
   "outputs": [
    {
     "name": "stdout",
     "output_type": "stream",
     "text": [
      "#!/usr/bin/env python\u001b[m\n",
      "import json\u001b[m\n",
      "print('#!/bin/sh')\u001b[m\n",
      "f = open('DRP003401.json', 'r')\u001b[m\n",
      "json_dict = json.load(f)\u001b[m\n",
      "for i in range(15):\u001b[m\n",
      "        print('curl -O {}'.format(json_dict['EXPERIMENT_RUN'][i]['RUN']['sra_pat\u001b[mh']))\u001b[m\n",
      "\u001b[K\u001b[7m(END)\u001b[m\u001b[K"
     ]
    }
   ],
   "source": [
    "!less DRR.py"
   ]
  },
  {
   "cell_type": "code",
   "execution_count": 63,
   "metadata": {},
   "outputs": [
    {
     "name": "stdout",
     "output_type": "stream",
     "text": [
      "% Total    % Received % Xferd  Average Speed   Time    Time     Time  Current\n",
      "                                 Dload  Upload   Total   Spent    Left  Speed\n",
      "100 2994M  100 2994M    0     0  2523k      0  0:20:14  0:20:14 --:--:--     0\n",
      "curl: (28) FTP response timeout\n",
      "  % Total    % Received % Xferd  Average Speed   Time    Time     Time  Current\n",
      "                                 Dload  Upload   Total   Spent    Left  Speed\n",
      "100 3035M  100 3035M    0     0  2857k      0  0:18:07  0:18:07 --:--:--     0\n",
      "curl: (28) FTP response timeout\n",
      "  % Total    % Received % Xferd  Average Speed   Time    Time     Time  Current\n",
      "                                 Dload  Upload   Total   Spent    Left  Speed\n",
      "100 1703M  100 1703M    0     0  2489k      0  0:11:40  0:11:40 --:--:--     0\n",
      "curl: (28) FTP response timeout\n",
      "  % Total    % Received % Xferd  Average Speed   Time    Time     Time  Current\n",
      "                                 Dload  Upload   Total   Spent    Left  Speed\n",
      "100 1600M  100 1600M    0     0  1937k      0  0:14:06  0:14:06 --:--:--     0\n",
      "curl: (28) FTP response timeout\n",
      "  % Total    % Received % Xferd  Average Speed   Time    Time     Time  Current\n",
      "                                 Dload  Upload   Total   Spent    Left  Speed\n",
      "100 2779M  100 2779M    0     0  1658k      0  0:28:36  0:28:36 --:--:--     0\n",
      "curl: (28) FTP response timeout\n",
      "  % Total    % Received % Xferd  Average Speed   Time    Time     Time  Current\n",
      "                                 Dload  Upload   Total   Spent    Left  Speed\n",
      "100 2813M  100 2813M    0     0  2542k      0  0:18:53  0:18:53 --:--:--     0\n",
      "curl: (28) FTP response timeout\n",
      "  % Total    % Received % Xferd  Average Speed   Time    Time     Time  Current\n",
      "                     Dload  Upload   Total   Spent    Left  Speed\n",
      "100 1704M  100 1704M    0     0  2424k      0  0:11:59  0:11:59 --:--:--     0\n",
      "curl: (28) FTP response timeout\n",
      "  % Total    % Received % Xferd  Average Speed   Time    Time     Time  Current\n",
      "                                 Dload  Upload   Total   Spent    Left  Speed\n",
      "100 2944M  100 2944M    0     0  1857k      0  0:27:02  0:27:02 --:--:--     0\n",
      "curl: (28) FTP response timeout\n",
      "  % Total    % Received % Xferd  Average Speed   Time    Time     Time  Current\n",
      "                                 Dload  Upload   Total   Spent    Left  Speed\n",
      " 61 2978M   61 1834M    0     0  2091k      0  0:24:18  0:14:58  0:09:20 2698k^C\n"
     ]
    }
   ],
   "source": [
    "#JSONファイルをパース、結果をファイルに保存\n",
    "!python DRR.py > DRR-GET.sh\n",
    "#SRAファイルをバッチ取得\n",
    "!sh DRR-GET.sh"
   ]
  },
  {
   "cell_type": "code",
   "execution_count": 61,
   "metadata": {},
   "outputs": [
    {
     "name": "stdout",
     "output_type": "stream",
     "text": [
      "DRR068893.sra\n",
      "2019-10-15T01:07:42 fasterq-dump.2.10.0 err: file invalid while opening directory within file system module - failed to resolve column 'QUALITY' idx '2'\n",
      "2019-10-15T01:07:42 fasterq-dump.2.10.0 err: cmn_iter.c cmn_iter_range().VCursorOpen() -> RC(rcFS,rcDirectory,rcOpening,rcFile,rcInvalid)\n",
      "\n",
      "real\t0m0.795s\n",
      "user\t0m0.100s\n",
      "sys\t0m0.059s\n",
      "pigz: skipping: *.fastq does not exist\n",
      "\n",
      "real\t0m0.016s\n",
      "user\t0m0.001s\n",
      "sys\t0m0.002s\n"
     ]
    }
   ],
   "source": [
    "#SRAからfastqへの変換\n",
    "!for f in *.sra; do echo $f && time fasterq-dump $f ; done\n",
    "#圧縮\n",
    "!time pigz *.fastq"
   ]
  },
  {
   "cell_type": "markdown",
   "metadata": {},
   "source": [
    "カイコのトランスクリプトーム配列を取得"
   ]
  },
  {
   "cell_type": "code",
   "execution_count": null,
   "metadata": {},
   "outputs": [],
   "source": [
    "!curl -O http://silkbase.ab.a.u-tokyo.ac.jp/pub/Bomo_gene_models_nucl.fa.gz"
   ]
  },
  {
   "cell_type": "code",
   "execution_count": null,
   "metadata": {},
   "outputs": [],
   "source": [
    "#index作成\n",
    "!time salmon index -p 4 -t Bomo_gene_models_nucl.fa.gz -i silkworm"
   ]
  },
  {
   "cell_type": "code",
   "execution_count": 66,
   "metadata": {},
   "outputs": [
    {
     "name": "stdout",
     "output_type": "stream",
     "text": [
      "#!/bin/bash\u001b[m\n",
      "p=4\u001b[m\n",
      "for drr in *.sra; do\u001b[m\n",
      " echo ${drr%.*}\u001b[m\n",
      " time salmon quant -l A -i silkworm -1 ${drr%.*}.sra_1.fastq.gz -2 ${drr%.*}.sra\u001b[m_2.fastq.gz --validateMappings -p $p -o output/${drr%.*}\u001b[m\n",
      "done\u001b[m\n",
      "\u001b[K\u001b[7m(END)\u001b[m\u001b[K"
     ]
    }
   ],
   "source": [
    "!less run-salmon.sh"
   ]
  },
  {
   "cell_type": "code",
   "execution_count": null,
   "metadata": {},
   "outputs": [],
   "source": [
    "#salmonにて定量\n",
    "!time sh run-salmons.sh"
   ]
  },
  {
   "cell_type": "code",
   "execution_count": 68,
   "metadata": {},
   "outputs": [],
   "source": [
    "#空のsraファイルを作成\n",
    "!touch DRR068893.sra\n",
    "!touch DRR068894.sra\n",
    "!touch DRR068895.sra\n",
    "!touch DRR095105.sra\n",
    "!touch DRR095106.sra\n",
    "!touch DRR095107.sra\n",
    "!touch DRR095108.sra\n",
    "!touch DRR095109.sra\n",
    "!touch DRR095110.sra\n",
    "!touch DRR095111.sra\n",
    "!touch DRR095112.sra\n",
    "!touch DRR095113.sra\n",
    "!touch DRR095114.sra\n",
    "!touch DRR095115.sra\n",
    "!touch DRR095116.sra"
   ]
  },
  {
   "cell_type": "code",
   "execution_count": 70,
   "metadata": {},
   "outputs": [],
   "source": [
    "#salmonの出力\n",
    "!for drr in *.sra; do cut -f4 output/${drr%.*}/quant.sf > output/${drr%.*}/quant.tpm ; done\n",
    "#一番左のカラムはIDなので、それを抽出\n",
    "!cut -f 1 output/DRR068893/quant.sf > output/lefter.txt\n",
    "#ファイル群を横方向に連結\n",
    "!paste output/lefter.txt output/*/quant.tpm > output/kaiko_5tissues.txt"
   ]
  },
  {
   "cell_type": "code",
   "execution_count": 71,
   "metadata": {},
   "outputs": [
    {
     "name": "stdout",
     "output_type": "stream",
     "text": [
      "Name    TPM     TPM     TPM     TPM     TPM     TPM     TPM     TPM     TPM     \u001b[mTPM     TPM     TPM     TPM     TPM     TPM\u001b[m\n",
      "KWMTBOMO00001   2.410625        2.280158        2.692023        0.033361        \u001b[m0.045129        0.022411        0.174280        0.263233        0.305942        \u001b[m0.441906        0.540911        0.508800        0.000000        0.000000        \u001b[m0.000000\u001b[m\n",
      "KWMTBOMO00002   0.000000        0.000000        0.000000        0.000000        \u001b[m0.000000        0.000000        0.000000        0.000000        0.000000        \u001b[m0.000000        0.108400        0.000000        0.000000        0.000000        \u001b[m0.000000\u001b[m\n",
      "KWMTBOMO00003   4.555213        5.401179        4.122819        0.038119        \u001b[m0.025780        0.000000        1.731123        2.000225        1.624796        \u001b[m0.043360        0.029777        0.059184        0.097449        0.064761        \u001b[m0.000000\u001b[m\n",
      "KWMTBOMO00004   49.376212       48.510640       44.198988       0.826449        \u001b[m0.620304        0.924144        1.237515        1.716717        1.534268        \u001b[m6.064720        5.663565        5.913134        0.233498        0.775514        \u001b[m0.921915\u001b[m\n",
      "KWMTBOMO00005   29.181164       26.563783       28.271311       0.732475        \u001b[m0.544494        0.344146        0.776607        0.851387        0.565815        \u001b[m3.335056        3.603389        3.694588        0.186598        0.061984        \u001b[m0.061405\u001b[m\n",
      "\u001b[K0.809900        1.072537        0.895848        0.941966        0.938937        \u001b[m:\u001b[K"
     ]
    }
   ],
   "source": [
    "#結果を見る\n",
    "!less output/kaiko_5tissues.txt"
   ]
  },
  {
   "cell_type": "markdown",
   "metadata": {},
   "source": [
    "ヘッダ行の修正"
   ]
  },
  {
   "cell_type": "code",
   "execution_count": 73,
   "metadata": {},
   "outputs": [],
   "source": [
    "#salmonの出力（メタデータを入れたバージョン）\n",
    "!for drr in *.sra; do cut -f4 output/${drr%.*}/quant.sf | tail -n +2 > tmp.tpm && echo ${drr%.*} > header.txt && \\\n",
    "cat header.txt tmp.tpm > output/${drr%.*}/quant.tpm ; done\n",
    "#ファイル群を横方向に連結\n",
    "!paste output/lefter.txt output/*/quant.tpm > output/kaiko_5tissues_2.txt"
   ]
  },
  {
   "cell_type": "code",
   "execution_count": 74,
   "metadata": {},
   "outputs": [
    {
     "name": "stdout",
     "output_type": "stream",
     "text": [
      "Name    DRR068893       DRR068894       DRR068895       DRR095105       DRR09510\u001b[m6       DRR095107       DRR095108       DRR095109       DRR095110       DRR09511\u001b[m1       DRR095112       DRR095113       DRR095114       DRR095115       DRR09511\u001b[m6\u001b[m\n",
      "KWMTBOMO00001   2.410625        2.280158        2.692023        0.033361        \u001b[m0.045129        0.022411        0.174280        0.263233        0.305942        \u001b[m0.441906        0.540911        0.508800        0.000000        0.000000        \u001b[m0.000000\u001b[m\n",
      "KWMTBOMO00002   0.000000        0.000000        0.000000        0.000000        \u001b[m0.000000        0.000000        0.000000        0.000000        0.000000        \u001b[m0.000000        0.108400        0.000000        0.000000        0.000000        \u001b[m0.000000\u001b[m\n",
      "KWMTBOMO00003   4.555213        5.401179        4.122819        0.038119        \u001b[m0.025780        0.000000        1.731123        2.000225        1.624796        \u001b[m0.043360        0.029777        0.059184        0.097449        0.064761        \u001b[m0.000000\u001b[m\n",
      "KWMTBOMO00004   49.376212       48.510640       44.198988       0.826449        \u001b[m0.620304        0.924144        1.237515        1.716717        1.534268        \u001b[m6.064720        5.663565        5.913134        0.233498        0.775514        \u001b[m0.921915\u001b[m\n",
      "\u001b[K0.061405\u001b[m\n",
      ":\u001b[K"
     ]
    }
   ],
   "source": [
    "#結果ファイルをみる\n",
    "!less output/kaiko_5tissues_2.txt"
   ]
  },
  {
   "cell_type": "markdown",
   "metadata": {},
   "source": [
    "### PCAの実行"
   ]
  },
  {
   "cell_type": "code",
   "execution_count": 80,
   "metadata": {},
   "outputs": [
    {
     "name": "stdout",
     "output_type": "stream",
     "text": [
      "[1] \"sdev\"     \"rotation\" \"center\"   \"scale\"    \"x\"       \n",
      "Importance of components:\n",
      "                             PC1       PC2       PC3       PC4       PC5\n",
      "Standard deviation     1.180e+05 8.293e+04 5.398e+04 3.900e+04 1.924e+03\n",
      "Proportion of Variance 5.515e-01 2.726e-01 1.155e-01 6.028e-02 1.500e-04\n",
      "Cumulative Proportion  5.515e-01 8.240e-01 9.395e-01 9.998e-01 9.999e-01\n",
      "                             PC6       PC7   PC8   PC9  PC10  PC11 PC12  PC13\n",
      "Standard deviation     978.92377 427.25628 323.8 286.2 215.9 193.5  157 129.7\n",
      "Proportion of Variance   0.00004   0.00001   0.0   0.0   0.0   0.0    0   0.0\n",
      "Cumulative Proportion    0.99998   0.99999   1.0   1.0   1.0   1.0    1   1.0\n",
      "                        PC14      PC15\n",
      "Standard deviation     93.13 2.246e-10\n",
      "Proportion of Variance  0.00 0.000e+00\n",
      "Cumulative Proportion   1.00 1.000e+00\n"
     ]
    }
   ],
   "source": [
    "!Rscript pca.R"
   ]
  },
  {
   "cell_type": "markdown",
   "metadata": {},
   "source": [
    "### PythonでもPCAをやってみる"
   ]
  },
  {
   "cell_type": "code",
   "execution_count": 1,
   "metadata": {},
   "outputs": [],
   "source": [
    "import pandas as pd\n",
    "import matplotlib.pyplot as plt"
   ]
  },
  {
   "cell_type": "code",
   "execution_count": 7,
   "metadata": {},
   "outputs": [
    {
     "name": "stdout",
     "output_type": "stream",
     "text": [
      "Name    DRR068893       DRR068894       DRR068895       DRR095105       DRR09510\u001b[m6       DRR095107       DRR095108       DRR095109       DRR095110       DRR09511\u001b[m1       DRR095112       DRR095113       DRR095114       DRR095115       DRR09511\u001b[m6\u001b[m\n",
      "KWMTBOMO00001   2.410625        2.280158        2.692023        0.033361        \u001b[m0.045129        0.022411        0.174280        0.263233        0.305942        \u001b[m0.441906        0.540911        0.508800        0.000000        0.000000        \u001b[m0.000000\u001b[m\n",
      "KWMTBOMO00002   0.000000        0.000000        0.000000        0.000000        \u001b[m0.000000        0.000000        0.000000        0.000000        0.000000        \u001b[m0.000000        0.108400        0.000000        0.000000        0.000000        \u001b[m0.000000\u001b[m\n",
      "KWMTBOMO00003   4.555213        5.401179        4.122819        0.038119        \u001b[m0.025780        0.000000        1.731123        2.000225        1.624796        \u001b[m0.043360        0.029777        0.059184        0.097449        0.064761        \u001b[m0.000000\u001b[m\n",
      "KWMTBOMO00004   49.376212       48.510640       44.198988       0.826449        \u001b[m0.620304        0.924144        1.237515        1.716717        1.534268        \u001b[m6.064720        5.663565        5.913134        0.233498        0.775514        \u001b[m0.921915\u001b[m\n",
      "\u001b[K0.061405\u001b[m  29.181164       26.563783       28.271311       0.732475        \u001b[m0.544494        0.344146        0.776607        0.851387        0.565815        \u001b[m3.335056        3.603389        3.694588        0.186598        0.061984        \u001b[m\u001b[7moutput/kaiko_5tissues_2.txt\u001b[m\u001b[K\u0007\n",
      ":\u001b[K"
     ]
    }
   ],
   "source": [
    "!less output/kaiko_5tissues_2.txt"
   ]
  },
  {
   "cell_type": "code",
   "execution_count": 8,
   "metadata": {},
   "outputs": [],
   "source": [
    "#txtの読み込み、1列目をindexに使用\n",
    "df = pd.read_csv(\"output/kaiko_5tissues_2.txt\", sep='\\t', index_col=0)"
   ]
  },
  {
   "cell_type": "code",
   "execution_count": 89,
   "metadata": {},
   "outputs": [
    {
     "data": {
      "text/html": [
       "<div>\n",
       "<style scoped>\n",
       "    .dataframe tbody tr th:only-of-type {\n",
       "        vertical-align: middle;\n",
       "    }\n",
       "\n",
       "    .dataframe tbody tr th {\n",
       "        vertical-align: top;\n",
       "    }\n",
       "\n",
       "    .dataframe thead th {\n",
       "        text-align: right;\n",
       "    }\n",
       "</style>\n",
       "<table border=\"1\" class=\"dataframe\">\n",
       "  <thead>\n",
       "    <tr style=\"text-align: right;\">\n",
       "      <th></th>\n",
       "      <th>DRR068893</th>\n",
       "      <th>DRR068894</th>\n",
       "      <th>DRR068895</th>\n",
       "      <th>DRR095105</th>\n",
       "      <th>DRR095106</th>\n",
       "      <th>DRR095107</th>\n",
       "      <th>DRR095108</th>\n",
       "      <th>DRR095109</th>\n",
       "      <th>DRR095110</th>\n",
       "      <th>DRR095111</th>\n",
       "      <th>DRR095112</th>\n",
       "      <th>DRR095113</th>\n",
       "      <th>DRR095114</th>\n",
       "      <th>DRR095115</th>\n",
       "      <th>DRR095116</th>\n",
       "    </tr>\n",
       "    <tr>\n",
       "      <th>Name</th>\n",
       "      <th></th>\n",
       "      <th></th>\n",
       "      <th></th>\n",
       "      <th></th>\n",
       "      <th></th>\n",
       "      <th></th>\n",
       "      <th></th>\n",
       "      <th></th>\n",
       "      <th></th>\n",
       "      <th></th>\n",
       "      <th></th>\n",
       "      <th></th>\n",
       "      <th></th>\n",
       "      <th></th>\n",
       "      <th></th>\n",
       "    </tr>\n",
       "  </thead>\n",
       "  <tbody>\n",
       "    <tr>\n",
       "      <td>KWMTBOMO00001</td>\n",
       "      <td>2.410625</td>\n",
       "      <td>2.280158</td>\n",
       "      <td>2.692023</td>\n",
       "      <td>0.033361</td>\n",
       "      <td>0.045129</td>\n",
       "      <td>0.022411</td>\n",
       "      <td>0.174280</td>\n",
       "      <td>0.263233</td>\n",
       "      <td>0.305942</td>\n",
       "      <td>0.441906</td>\n",
       "      <td>0.540911</td>\n",
       "      <td>0.508800</td>\n",
       "      <td>0.000000</td>\n",
       "      <td>0.000000</td>\n",
       "      <td>0.000000</td>\n",
       "    </tr>\n",
       "    <tr>\n",
       "      <td>KWMTBOMO00002</td>\n",
       "      <td>0.000000</td>\n",
       "      <td>0.000000</td>\n",
       "      <td>0.000000</td>\n",
       "      <td>0.000000</td>\n",
       "      <td>0.000000</td>\n",
       "      <td>0.000000</td>\n",
       "      <td>0.000000</td>\n",
       "      <td>0.000000</td>\n",
       "      <td>0.000000</td>\n",
       "      <td>0.000000</td>\n",
       "      <td>0.108400</td>\n",
       "      <td>0.000000</td>\n",
       "      <td>0.000000</td>\n",
       "      <td>0.000000</td>\n",
       "      <td>0.000000</td>\n",
       "    </tr>\n",
       "    <tr>\n",
       "      <td>KWMTBOMO00003</td>\n",
       "      <td>4.555213</td>\n",
       "      <td>5.401179</td>\n",
       "      <td>4.122819</td>\n",
       "      <td>0.038119</td>\n",
       "      <td>0.025780</td>\n",
       "      <td>0.000000</td>\n",
       "      <td>1.731123</td>\n",
       "      <td>2.000225</td>\n",
       "      <td>1.624796</td>\n",
       "      <td>0.043360</td>\n",
       "      <td>0.029777</td>\n",
       "      <td>0.059184</td>\n",
       "      <td>0.097449</td>\n",
       "      <td>0.064761</td>\n",
       "      <td>0.000000</td>\n",
       "    </tr>\n",
       "    <tr>\n",
       "      <td>KWMTBOMO00004</td>\n",
       "      <td>49.376212</td>\n",
       "      <td>48.510640</td>\n",
       "      <td>44.198988</td>\n",
       "      <td>0.826449</td>\n",
       "      <td>0.620304</td>\n",
       "      <td>0.924144</td>\n",
       "      <td>1.237515</td>\n",
       "      <td>1.716717</td>\n",
       "      <td>1.534268</td>\n",
       "      <td>6.064720</td>\n",
       "      <td>5.663565</td>\n",
       "      <td>5.913134</td>\n",
       "      <td>0.233498</td>\n",
       "      <td>0.775514</td>\n",
       "      <td>0.921915</td>\n",
       "    </tr>\n",
       "    <tr>\n",
       "      <td>KWMTBOMO00005</td>\n",
       "      <td>29.181164</td>\n",
       "      <td>26.563783</td>\n",
       "      <td>28.271311</td>\n",
       "      <td>0.732475</td>\n",
       "      <td>0.544494</td>\n",
       "      <td>0.344146</td>\n",
       "      <td>0.776607</td>\n",
       "      <td>0.851387</td>\n",
       "      <td>0.565815</td>\n",
       "      <td>3.335056</td>\n",
       "      <td>3.603389</td>\n",
       "      <td>3.694588</td>\n",
       "      <td>0.186598</td>\n",
       "      <td>0.061984</td>\n",
       "      <td>0.061405</td>\n",
       "    </tr>\n",
       "  </tbody>\n",
       "</table>\n",
       "</div>"
      ],
      "text/plain": [
       "               DRR068893  DRR068894  DRR068895  DRR095105  DRR095106  \\\n",
       "Name                                                                   \n",
       "KWMTBOMO00001   2.410625   2.280158   2.692023   0.033361   0.045129   \n",
       "KWMTBOMO00002   0.000000   0.000000   0.000000   0.000000   0.000000   \n",
       "KWMTBOMO00003   4.555213   5.401179   4.122819   0.038119   0.025780   \n",
       "KWMTBOMO00004  49.376212  48.510640  44.198988   0.826449   0.620304   \n",
       "KWMTBOMO00005  29.181164  26.563783  28.271311   0.732475   0.544494   \n",
       "\n",
       "               DRR095107  DRR095108  DRR095109  DRR095110  DRR095111  \\\n",
       "Name                                                                   \n",
       "KWMTBOMO00001   0.022411   0.174280   0.263233   0.305942   0.441906   \n",
       "KWMTBOMO00002   0.000000   0.000000   0.000000   0.000000   0.000000   \n",
       "KWMTBOMO00003   0.000000   1.731123   2.000225   1.624796   0.043360   \n",
       "KWMTBOMO00004   0.924144   1.237515   1.716717   1.534268   6.064720   \n",
       "KWMTBOMO00005   0.344146   0.776607   0.851387   0.565815   3.335056   \n",
       "\n",
       "               DRR095112  DRR095113  DRR095114  DRR095115  DRR095116  \n",
       "Name                                                                  \n",
       "KWMTBOMO00001   0.540911   0.508800   0.000000   0.000000   0.000000  \n",
       "KWMTBOMO00002   0.108400   0.000000   0.000000   0.000000   0.000000  \n",
       "KWMTBOMO00003   0.029777   0.059184   0.097449   0.064761   0.000000  \n",
       "KWMTBOMO00004   5.663565   5.913134   0.233498   0.775514   0.921915  \n",
       "KWMTBOMO00005   3.603389   3.694588   0.186598   0.061984   0.061405  "
      ]
     },
     "execution_count": 89,
     "metadata": {},
     "output_type": "execute_result"
    }
   ],
   "source": [
    "df.head()"
   ]
  },
  {
   "cell_type": "code",
   "execution_count": 15,
   "metadata": {},
   "outputs": [],
   "source": [
    "#ラベルをつけるために転置させる\n",
    "df_T = df.T"
   ]
  },
  {
   "cell_type": "code",
   "execution_count": 21,
   "metadata": {},
   "outputs": [
    {
     "data": {
      "text/html": [
       "<div>\n",
       "<style scoped>\n",
       "    .dataframe tbody tr th:only-of-type {\n",
       "        vertical-align: middle;\n",
       "    }\n",
       "\n",
       "    .dataframe tbody tr th {\n",
       "        vertical-align: top;\n",
       "    }\n",
       "\n",
       "    .dataframe thead th {\n",
       "        text-align: right;\n",
       "    }\n",
       "</style>\n",
       "<table border=\"1\" class=\"dataframe\">\n",
       "  <thead>\n",
       "    <tr style=\"text-align: right;\">\n",
       "      <th>Name</th>\n",
       "      <th>KWMTBOMO00001</th>\n",
       "      <th>KWMTBOMO00002</th>\n",
       "      <th>KWMTBOMO00003</th>\n",
       "      <th>KWMTBOMO00004</th>\n",
       "      <th>KWMTBOMO00005</th>\n",
       "      <th>KWMTBOMO00006</th>\n",
       "      <th>KWMTBOMO00007</th>\n",
       "      <th>KWMTBOMO00008</th>\n",
       "      <th>KWMTBOMO00009</th>\n",
       "      <th>KWMTBOMO00010</th>\n",
       "      <th>...</th>\n",
       "      <th>KWMTBOMO16870</th>\n",
       "      <th>KWMTBOMO16871</th>\n",
       "      <th>KWMTBOMO16872</th>\n",
       "      <th>KWMTBOMO16874</th>\n",
       "      <th>KWMTBOMO16875</th>\n",
       "      <th>KWMTBOMO16876</th>\n",
       "      <th>KWMTBOMO16877</th>\n",
       "      <th>KWMTBOMO16878</th>\n",
       "      <th>KWMTBOMO16879</th>\n",
       "      <th>KWMTBOMO16880</th>\n",
       "    </tr>\n",
       "  </thead>\n",
       "  <tbody>\n",
       "    <tr>\n",
       "      <th>DRR068893</th>\n",
       "      <td>2.410625</td>\n",
       "      <td>0.0000</td>\n",
       "      <td>4.555213</td>\n",
       "      <td>49.376212</td>\n",
       "      <td>29.181164</td>\n",
       "      <td>6.967257</td>\n",
       "      <td>0.230115</td>\n",
       "      <td>0.283356</td>\n",
       "      <td>0.0</td>\n",
       "      <td>0.411439</td>\n",
       "      <td>...</td>\n",
       "      <td>0.341297</td>\n",
       "      <td>0.0</td>\n",
       "      <td>4.260877</td>\n",
       "      <td>0.279273</td>\n",
       "      <td>0.970601</td>\n",
       "      <td>0.0</td>\n",
       "      <td>0.0</td>\n",
       "      <td>0.0</td>\n",
       "      <td>44.857669</td>\n",
       "      <td>0.0</td>\n",
       "    </tr>\n",
       "    <tr>\n",
       "      <th>DRR068894</th>\n",
       "      <td>2.280158</td>\n",
       "      <td>0.0000</td>\n",
       "      <td>5.401179</td>\n",
       "      <td>48.510640</td>\n",
       "      <td>26.563783</td>\n",
       "      <td>7.016016</td>\n",
       "      <td>0.284913</td>\n",
       "      <td>0.280822</td>\n",
       "      <td>0.0</td>\n",
       "      <td>0.353183</td>\n",
       "      <td>...</td>\n",
       "      <td>0.408810</td>\n",
       "      <td>0.0</td>\n",
       "      <td>2.814476</td>\n",
       "      <td>0.000000</td>\n",
       "      <td>0.770059</td>\n",
       "      <td>0.0</td>\n",
       "      <td>0.0</td>\n",
       "      <td>0.0</td>\n",
       "      <td>53.382378</td>\n",
       "      <td>0.0</td>\n",
       "    </tr>\n",
       "    <tr>\n",
       "      <th>DRR068895</th>\n",
       "      <td>2.692023</td>\n",
       "      <td>0.0000</td>\n",
       "      <td>4.122819</td>\n",
       "      <td>44.198988</td>\n",
       "      <td>28.271311</td>\n",
       "      <td>6.092140</td>\n",
       "      <td>0.687423</td>\n",
       "      <td>0.312459</td>\n",
       "      <td>0.0</td>\n",
       "      <td>0.196781</td>\n",
       "      <td>...</td>\n",
       "      <td>0.000000</td>\n",
       "      <td>0.0</td>\n",
       "      <td>6.450424</td>\n",
       "      <td>0.000000</td>\n",
       "      <td>0.000000</td>\n",
       "      <td>0.0</td>\n",
       "      <td>0.0</td>\n",
       "      <td>0.0</td>\n",
       "      <td>57.965291</td>\n",
       "      <td>0.0</td>\n",
       "    </tr>\n",
       "    <tr>\n",
       "      <th>DRR095105</th>\n",
       "      <td>0.033361</td>\n",
       "      <td>0.0000</td>\n",
       "      <td>0.038119</td>\n",
       "      <td>0.826449</td>\n",
       "      <td>0.732475</td>\n",
       "      <td>0.800022</td>\n",
       "      <td>0.000000</td>\n",
       "      <td>0.195492</td>\n",
       "      <td>0.0</td>\n",
       "      <td>0.413810</td>\n",
       "      <td>...</td>\n",
       "      <td>0.274601</td>\n",
       "      <td>0.0</td>\n",
       "      <td>1.615313</td>\n",
       "      <td>0.000000</td>\n",
       "      <td>0.000000</td>\n",
       "      <td>0.0</td>\n",
       "      <td>0.0</td>\n",
       "      <td>0.0</td>\n",
       "      <td>0.329601</td>\n",
       "      <td>0.0</td>\n",
       "    </tr>\n",
       "    <tr>\n",
       "      <th>DRR095106</th>\n",
       "      <td>0.045129</td>\n",
       "      <td>0.0000</td>\n",
       "      <td>0.025780</td>\n",
       "      <td>0.620304</td>\n",
       "      <td>0.544494</td>\n",
       "      <td>0.809900</td>\n",
       "      <td>0.000000</td>\n",
       "      <td>0.029107</td>\n",
       "      <td>0.0</td>\n",
       "      <td>0.182703</td>\n",
       "      <td>...</td>\n",
       "      <td>0.000000</td>\n",
       "      <td>0.0</td>\n",
       "      <td>1.084719</td>\n",
       "      <td>0.000000</td>\n",
       "      <td>0.000000</td>\n",
       "      <td>0.0</td>\n",
       "      <td>0.0</td>\n",
       "      <td>0.0</td>\n",
       "      <td>0.000000</td>\n",
       "      <td>0.0</td>\n",
       "    </tr>\n",
       "    <tr>\n",
       "      <th>DRR095107</th>\n",
       "      <td>0.022411</td>\n",
       "      <td>0.0000</td>\n",
       "      <td>0.000000</td>\n",
       "      <td>0.924144</td>\n",
       "      <td>0.344146</td>\n",
       "      <td>1.072537</td>\n",
       "      <td>0.000000</td>\n",
       "      <td>0.051825</td>\n",
       "      <td>0.0</td>\n",
       "      <td>0.000000</td>\n",
       "      <td>...</td>\n",
       "      <td>0.290337</td>\n",
       "      <td>0.0</td>\n",
       "      <td>0.000000</td>\n",
       "      <td>0.000000</td>\n",
       "      <td>0.000000</td>\n",
       "      <td>0.0</td>\n",
       "      <td>0.0</td>\n",
       "      <td>0.0</td>\n",
       "      <td>0.000000</td>\n",
       "      <td>0.0</td>\n",
       "    </tr>\n",
       "    <tr>\n",
       "      <th>DRR095108</th>\n",
       "      <td>0.174280</td>\n",
       "      <td>0.0000</td>\n",
       "      <td>1.731123</td>\n",
       "      <td>1.237515</td>\n",
       "      <td>0.776607</td>\n",
       "      <td>0.895848</td>\n",
       "      <td>0.000000</td>\n",
       "      <td>0.000000</td>\n",
       "      <td>0.0</td>\n",
       "      <td>0.181791</td>\n",
       "      <td>...</td>\n",
       "      <td>1.869881</td>\n",
       "      <td>0.0</td>\n",
       "      <td>0.000000</td>\n",
       "      <td>0.000000</td>\n",
       "      <td>0.000000</td>\n",
       "      <td>0.0</td>\n",
       "      <td>0.0</td>\n",
       "      <td>0.0</td>\n",
       "      <td>0.624115</td>\n",
       "      <td>0.0</td>\n",
       "    </tr>\n",
       "    <tr>\n",
       "      <th>DRR095109</th>\n",
       "      <td>0.263233</td>\n",
       "      <td>0.0000</td>\n",
       "      <td>2.000225</td>\n",
       "      <td>1.716717</td>\n",
       "      <td>0.851387</td>\n",
       "      <td>0.941966</td>\n",
       "      <td>0.000000</td>\n",
       "      <td>0.167007</td>\n",
       "      <td>0.0</td>\n",
       "      <td>0.000000</td>\n",
       "      <td>...</td>\n",
       "      <td>2.425647</td>\n",
       "      <td>0.0</td>\n",
       "      <td>0.000000</td>\n",
       "      <td>0.000000</td>\n",
       "      <td>0.000000</td>\n",
       "      <td>0.0</td>\n",
       "      <td>0.0</td>\n",
       "      <td>0.0</td>\n",
       "      <td>0.000000</td>\n",
       "      <td>0.0</td>\n",
       "    </tr>\n",
       "    <tr>\n",
       "      <th>DRR095110</th>\n",
       "      <td>0.305942</td>\n",
       "      <td>0.0000</td>\n",
       "      <td>1.624796</td>\n",
       "      <td>1.534268</td>\n",
       "      <td>0.565815</td>\n",
       "      <td>0.938937</td>\n",
       "      <td>0.000000</td>\n",
       "      <td>0.074874</td>\n",
       "      <td>0.0</td>\n",
       "      <td>0.168122</td>\n",
       "      <td>...</td>\n",
       "      <td>2.316396</td>\n",
       "      <td>0.0</td>\n",
       "      <td>0.000000</td>\n",
       "      <td>0.000000</td>\n",
       "      <td>0.000000</td>\n",
       "      <td>0.0</td>\n",
       "      <td>0.0</td>\n",
       "      <td>0.0</td>\n",
       "      <td>0.207240</td>\n",
       "      <td>0.0</td>\n",
       "    </tr>\n",
       "    <tr>\n",
       "      <th>DRR095111</th>\n",
       "      <td>0.441906</td>\n",
       "      <td>0.0000</td>\n",
       "      <td>0.043360</td>\n",
       "      <td>6.064720</td>\n",
       "      <td>3.335056</td>\n",
       "      <td>1.671510</td>\n",
       "      <td>1.912696</td>\n",
       "      <td>0.000000</td>\n",
       "      <td>0.0</td>\n",
       "      <td>0.101761</td>\n",
       "      <td>...</td>\n",
       "      <td>0.675006</td>\n",
       "      <td>0.0</td>\n",
       "      <td>0.000000</td>\n",
       "      <td>0.000000</td>\n",
       "      <td>0.000000</td>\n",
       "      <td>0.0</td>\n",
       "      <td>0.0</td>\n",
       "      <td>0.0</td>\n",
       "      <td>0.375918</td>\n",
       "      <td>0.0</td>\n",
       "    </tr>\n",
       "    <tr>\n",
       "      <th>DRR095112</th>\n",
       "      <td>0.540911</td>\n",
       "      <td>0.1084</td>\n",
       "      <td>0.029777</td>\n",
       "      <td>5.663565</td>\n",
       "      <td>3.603389</td>\n",
       "      <td>2.497208</td>\n",
       "      <td>0.850067</td>\n",
       "      <td>0.213215</td>\n",
       "      <td>0.0</td>\n",
       "      <td>0.339381</td>\n",
       "      <td>...</td>\n",
       "      <td>0.141017</td>\n",
       "      <td>0.0</td>\n",
       "      <td>0.000000</td>\n",
       "      <td>0.000000</td>\n",
       "      <td>0.000000</td>\n",
       "      <td>0.0</td>\n",
       "      <td>0.0</td>\n",
       "      <td>0.0</td>\n",
       "      <td>0.000000</td>\n",
       "      <td>0.0</td>\n",
       "    </tr>\n",
       "    <tr>\n",
       "      <th>DRR095113</th>\n",
       "      <td>0.508800</td>\n",
       "      <td>0.0000</td>\n",
       "      <td>0.059184</td>\n",
       "      <td>5.913134</td>\n",
       "      <td>3.694588</td>\n",
       "      <td>2.584929</td>\n",
       "      <td>1.331178</td>\n",
       "      <td>0.248154</td>\n",
       "      <td>0.0</td>\n",
       "      <td>0.285500</td>\n",
       "      <td>...</td>\n",
       "      <td>0.221357</td>\n",
       "      <td>0.0</td>\n",
       "      <td>0.000000</td>\n",
       "      <td>0.000000</td>\n",
       "      <td>0.000000</td>\n",
       "      <td>0.0</td>\n",
       "      <td>0.0</td>\n",
       "      <td>0.0</td>\n",
       "      <td>0.000000</td>\n",
       "      <td>0.0</td>\n",
       "    </tr>\n",
       "    <tr>\n",
       "      <th>DRR095114</th>\n",
       "      <td>0.000000</td>\n",
       "      <td>0.0000</td>\n",
       "      <td>0.097449</td>\n",
       "      <td>0.233498</td>\n",
       "      <td>0.186598</td>\n",
       "      <td>1.350611</td>\n",
       "      <td>0.000000</td>\n",
       "      <td>0.000000</td>\n",
       "      <td>0.0</td>\n",
       "      <td>0.156315</td>\n",
       "      <td>...</td>\n",
       "      <td>0.000000</td>\n",
       "      <td>0.0</td>\n",
       "      <td>0.000000</td>\n",
       "      <td>0.000000</td>\n",
       "      <td>0.000000</td>\n",
       "      <td>0.0</td>\n",
       "      <td>0.0</td>\n",
       "      <td>0.0</td>\n",
       "      <td>0.000000</td>\n",
       "      <td>0.0</td>\n",
       "    </tr>\n",
       "    <tr>\n",
       "      <th>DRR095115</th>\n",
       "      <td>0.000000</td>\n",
       "      <td>0.0000</td>\n",
       "      <td>0.064761</td>\n",
       "      <td>0.775514</td>\n",
       "      <td>0.061984</td>\n",
       "      <td>1.457358</td>\n",
       "      <td>0.000000</td>\n",
       "      <td>0.278937</td>\n",
       "      <td>0.0</td>\n",
       "      <td>0.000000</td>\n",
       "      <td>...</td>\n",
       "      <td>0.000000</td>\n",
       "      <td>0.0</td>\n",
       "      <td>1.301400</td>\n",
       "      <td>0.000000</td>\n",
       "      <td>0.000000</td>\n",
       "      <td>0.0</td>\n",
       "      <td>0.0</td>\n",
       "      <td>0.0</td>\n",
       "      <td>0.000000</td>\n",
       "      <td>0.0</td>\n",
       "    </tr>\n",
       "    <tr>\n",
       "      <th>DRR095116</th>\n",
       "      <td>0.000000</td>\n",
       "      <td>0.0000</td>\n",
       "      <td>0.000000</td>\n",
       "      <td>0.921915</td>\n",
       "      <td>0.061405</td>\n",
       "      <td>1.332662</td>\n",
       "      <td>0.027764</td>\n",
       "      <td>0.000000</td>\n",
       "      <td>0.0</td>\n",
       "      <td>0.114921</td>\n",
       "      <td>...</td>\n",
       "      <td>0.000000</td>\n",
       "      <td>0.0</td>\n",
       "      <td>0.000000</td>\n",
       "      <td>0.000000</td>\n",
       "      <td>0.000000</td>\n",
       "      <td>0.0</td>\n",
       "      <td>0.0</td>\n",
       "      <td>0.0</td>\n",
       "      <td>0.000000</td>\n",
       "      <td>0.0</td>\n",
       "    </tr>\n",
       "  </tbody>\n",
       "</table>\n",
       "<p>15 rows × 16770 columns</p>\n",
       "</div>"
      ],
      "text/plain": [
       "Name       KWMTBOMO00001  KWMTBOMO00002  KWMTBOMO00003  KWMTBOMO00004  \\\n",
       "DRR068893       2.410625         0.0000       4.555213      49.376212   \n",
       "DRR068894       2.280158         0.0000       5.401179      48.510640   \n",
       "DRR068895       2.692023         0.0000       4.122819      44.198988   \n",
       "DRR095105       0.033361         0.0000       0.038119       0.826449   \n",
       "DRR095106       0.045129         0.0000       0.025780       0.620304   \n",
       "DRR095107       0.022411         0.0000       0.000000       0.924144   \n",
       "DRR095108       0.174280         0.0000       1.731123       1.237515   \n",
       "DRR095109       0.263233         0.0000       2.000225       1.716717   \n",
       "DRR095110       0.305942         0.0000       1.624796       1.534268   \n",
       "DRR095111       0.441906         0.0000       0.043360       6.064720   \n",
       "DRR095112       0.540911         0.1084       0.029777       5.663565   \n",
       "DRR095113       0.508800         0.0000       0.059184       5.913134   \n",
       "DRR095114       0.000000         0.0000       0.097449       0.233498   \n",
       "DRR095115       0.000000         0.0000       0.064761       0.775514   \n",
       "DRR095116       0.000000         0.0000       0.000000       0.921915   \n",
       "\n",
       "Name       KWMTBOMO00005  KWMTBOMO00006  KWMTBOMO00007  KWMTBOMO00008  \\\n",
       "DRR068893      29.181164       6.967257       0.230115       0.283356   \n",
       "DRR068894      26.563783       7.016016       0.284913       0.280822   \n",
       "DRR068895      28.271311       6.092140       0.687423       0.312459   \n",
       "DRR095105       0.732475       0.800022       0.000000       0.195492   \n",
       "DRR095106       0.544494       0.809900       0.000000       0.029107   \n",
       "DRR095107       0.344146       1.072537       0.000000       0.051825   \n",
       "DRR095108       0.776607       0.895848       0.000000       0.000000   \n",
       "DRR095109       0.851387       0.941966       0.000000       0.167007   \n",
       "DRR095110       0.565815       0.938937       0.000000       0.074874   \n",
       "DRR095111       3.335056       1.671510       1.912696       0.000000   \n",
       "DRR095112       3.603389       2.497208       0.850067       0.213215   \n",
       "DRR095113       3.694588       2.584929       1.331178       0.248154   \n",
       "DRR095114       0.186598       1.350611       0.000000       0.000000   \n",
       "DRR095115       0.061984       1.457358       0.000000       0.278937   \n",
       "DRR095116       0.061405       1.332662       0.027764       0.000000   \n",
       "\n",
       "Name       KWMTBOMO00009  KWMTBOMO00010  ...  KWMTBOMO16870  KWMTBOMO16871  \\\n",
       "DRR068893            0.0       0.411439  ...       0.341297            0.0   \n",
       "DRR068894            0.0       0.353183  ...       0.408810            0.0   \n",
       "DRR068895            0.0       0.196781  ...       0.000000            0.0   \n",
       "DRR095105            0.0       0.413810  ...       0.274601            0.0   \n",
       "DRR095106            0.0       0.182703  ...       0.000000            0.0   \n",
       "DRR095107            0.0       0.000000  ...       0.290337            0.0   \n",
       "DRR095108            0.0       0.181791  ...       1.869881            0.0   \n",
       "DRR095109            0.0       0.000000  ...       2.425647            0.0   \n",
       "DRR095110            0.0       0.168122  ...       2.316396            0.0   \n",
       "DRR095111            0.0       0.101761  ...       0.675006            0.0   \n",
       "DRR095112            0.0       0.339381  ...       0.141017            0.0   \n",
       "DRR095113            0.0       0.285500  ...       0.221357            0.0   \n",
       "DRR095114            0.0       0.156315  ...       0.000000            0.0   \n",
       "DRR095115            0.0       0.000000  ...       0.000000            0.0   \n",
       "DRR095116            0.0       0.114921  ...       0.000000            0.0   \n",
       "\n",
       "Name       KWMTBOMO16872  KWMTBOMO16874  KWMTBOMO16875  KWMTBOMO16876  \\\n",
       "DRR068893       4.260877       0.279273       0.970601            0.0   \n",
       "DRR068894       2.814476       0.000000       0.770059            0.0   \n",
       "DRR068895       6.450424       0.000000       0.000000            0.0   \n",
       "DRR095105       1.615313       0.000000       0.000000            0.0   \n",
       "DRR095106       1.084719       0.000000       0.000000            0.0   \n",
       "DRR095107       0.000000       0.000000       0.000000            0.0   \n",
       "DRR095108       0.000000       0.000000       0.000000            0.0   \n",
       "DRR095109       0.000000       0.000000       0.000000            0.0   \n",
       "DRR095110       0.000000       0.000000       0.000000            0.0   \n",
       "DRR095111       0.000000       0.000000       0.000000            0.0   \n",
       "DRR095112       0.000000       0.000000       0.000000            0.0   \n",
       "DRR095113       0.000000       0.000000       0.000000            0.0   \n",
       "DRR095114       0.000000       0.000000       0.000000            0.0   \n",
       "DRR095115       1.301400       0.000000       0.000000            0.0   \n",
       "DRR095116       0.000000       0.000000       0.000000            0.0   \n",
       "\n",
       "Name       KWMTBOMO16877  KWMTBOMO16878  KWMTBOMO16879  KWMTBOMO16880  \n",
       "DRR068893            0.0            0.0      44.857669            0.0  \n",
       "DRR068894            0.0            0.0      53.382378            0.0  \n",
       "DRR068895            0.0            0.0      57.965291            0.0  \n",
       "DRR095105            0.0            0.0       0.329601            0.0  \n",
       "DRR095106            0.0            0.0       0.000000            0.0  \n",
       "DRR095107            0.0            0.0       0.000000            0.0  \n",
       "DRR095108            0.0            0.0       0.624115            0.0  \n",
       "DRR095109            0.0            0.0       0.000000            0.0  \n",
       "DRR095110            0.0            0.0       0.207240            0.0  \n",
       "DRR095111            0.0            0.0       0.375918            0.0  \n",
       "DRR095112            0.0            0.0       0.000000            0.0  \n",
       "DRR095113            0.0            0.0       0.000000            0.0  \n",
       "DRR095114            0.0            0.0       0.000000            0.0  \n",
       "DRR095115            0.0            0.0       0.000000            0.0  \n",
       "DRR095116            0.0            0.0       0.000000            0.0  \n",
       "\n",
       "[15 rows x 16770 columns]"
      ]
     },
     "execution_count": 21,
     "metadata": {},
     "output_type": "execute_result"
    }
   ],
   "source": [
    "df_T"
   ]
  },
  {
   "cell_type": "code",
   "execution_count": 101,
   "metadata": {},
   "outputs": [
    {
     "data": {
      "text/plain": [
       "Index(['DRR068893', 'DRR068894', 'DRR068895', 'DRR095105', 'DRR095106',\n",
       "       'DRR095107', 'DRR095108', 'DRR095109', 'DRR095110', 'DRR095111',\n",
       "       'DRR095112', 'DRR095113', 'DRR095114', 'DRR095115', 'DRR095116'],\n",
       "      dtype='object')"
      ]
     },
     "execution_count": 101,
     "metadata": {},
     "output_type": "execute_result"
    }
   ],
   "source": [
    "df_T.index"
   ]
  },
  {
   "cell_type": "markdown",
   "metadata": {},
   "source": [
    "scikit-learnを使用"
   ]
  },
  {
   "cell_type": "code",
   "execution_count": 9,
   "metadata": {},
   "outputs": [],
   "source": [
    "from sklearn.decomposition import PCA"
   ]
  },
  {
   "cell_type": "code",
   "execution_count": 17,
   "metadata": {},
   "outputs": [
    {
     "name": "stdout",
     "output_type": "stream",
     "text": [
      "CPU times: user 74.7 ms, sys: 3.45 ms, total: 78.2 ms\n",
      "Wall time: 15.5 ms\n"
     ]
    }
   ],
   "source": [
    "%time pca = PCA(n_components=2).fit_transform(df_T)"
   ]
  },
  {
   "cell_type": "code",
   "execution_count": 18,
   "metadata": {},
   "outputs": [
    {
     "data": {
      "text/plain": [
       "array([[ 7.82866076e+03,  3.61840094e+02],\n",
       "       [ 7.84844037e+03,  3.36496774e+02],\n",
       "       [ 7.32511980e+03,  1.15521577e+02],\n",
       "       [ 2.17617466e+05, -5.10294007e+03],\n",
       "       [ 2.17752589e+05, -4.99299119e+03],\n",
       "       [ 2.17852440e+05, -4.91481898e+03],\n",
       "       [-7.25043516e+04,  1.46296602e+05],\n",
       "       [-7.15847746e+04,  1.44794926e+05],\n",
       "       [-7.14831413e+04,  1.45061569e+05],\n",
       "       [-6.14493574e+04, -4.84091559e+04],\n",
       "       [-6.03250312e+04, -4.71238204e+04],\n",
       "       [-6.02154354e+04, -4.70118271e+04],\n",
       "       [-9.39240134e+04, -9.42220971e+04],\n",
       "       [-9.23710744e+04, -9.26064468e+04],\n",
       "       [-9.23675364e+04, -9.25828577e+04]])"
      ]
     },
     "execution_count": 18,
     "metadata": {},
     "output_type": "execute_result"
    }
   ],
   "source": [
    "pca"
   ]
  },
  {
   "cell_type": "code",
   "execution_count": 19,
   "metadata": {},
   "outputs": [
    {
     "data": {
      "text/plain": [
       "15"
      ]
     },
     "execution_count": 19,
     "metadata": {},
     "output_type": "execute_result"
    }
   ],
   "source": [
    "len(pca)"
   ]
  },
  {
   "cell_type": "code",
   "execution_count": 99,
   "metadata": {},
   "outputs": [
    {
     "data": {
      "text/plain": [
       "Text(0, 0.5, 'PC2')"
      ]
     },
     "execution_count": 99,
     "metadata": {},
     "output_type": "execute_result"
    },
    {
     "data": {
      "image/png": "[encoded data removed]",
      "text/plain": [
       "<Figure size 576x576 with 1 Axes>"
      ]
     },
     "metadata": {
      "needs_background": "light"
     },
     "output_type": "display_data"
    }
   ],
   "source": [
    "plt.figure(figsize=(8, 8))\n",
    "plt.scatter(pca[:,0], pca[:,1], s=10)\n",
    "plt.xlabel(\"PC1\")\n",
    "plt.ylabel(\"PC2\")"
   ]
  },
  {
   "cell_type": "markdown",
   "metadata": {},
   "source": [
    "PCAのplotにラベルをつける"
   ]
  },
  {
   "cell_type": "code",
   "execution_count": 36,
   "metadata": {},
   "outputs": [],
   "source": [
    "df_T[\"label\"] = pd.Series()\n",
    "df_T[\"num\"] = pd.Series()"
   ]
  },
  {
   "cell_type": "code",
   "execution_count": 37,
   "metadata": {
    "scrolled": true
   },
   "outputs": [
    {
     "name": "stderr",
     "output_type": "stream",
     "text": [
      "/Users/yamada/anaconda3/lib/python3.7/site-packages/ipykernel_launcher.py:2: SettingWithCopyWarning: \n",
      "A value is trying to be set on a copy of a slice from a DataFrame\n",
      "\n",
      "See the caveats in the documentation: http://pandas.pydata.org/pandas-docs/stable/indexing.html#indexing-view-versus-copy\n",
      "  \n",
      "/Users/yamada/anaconda3/lib/python3.7/site-packages/ipykernel_launcher.py:3: SettingWithCopyWarning: \n",
      "A value is trying to be set on a copy of a slice from a DataFrame\n",
      "\n",
      "See the caveats in the documentation: http://pandas.pydata.org/pandas-docs/stable/indexing.html#indexing-view-versus-copy\n",
      "  This is separate from the ipykernel package so we can avoid doing imports until\n",
      "/Users/yamada/anaconda3/lib/python3.7/site-packages/ipykernel_launcher.py:4: SettingWithCopyWarning: \n",
      "A value is trying to be set on a copy of a slice from a DataFrame\n",
      "\n",
      "See the caveats in the documentation: http://pandas.pydata.org/pandas-docs/stable/indexing.html#indexing-view-versus-copy\n",
      "  after removing the cwd from sys.path.\n",
      "/Users/yamada/anaconda3/lib/python3.7/site-packages/ipykernel_launcher.py:5: SettingWithCopyWarning: \n",
      "A value is trying to be set on a copy of a slice from a DataFrame\n",
      "\n",
      "See the caveats in the documentation: http://pandas.pydata.org/pandas-docs/stable/indexing.html#indexing-view-versus-copy\n",
      "  \"\"\"\n",
      "/Users/yamada/anaconda3/lib/python3.7/site-packages/ipykernel_launcher.py:7: SettingWithCopyWarning: \n",
      "A value is trying to be set on a copy of a slice from a DataFrame\n",
      "\n",
      "See the caveats in the documentation: http://pandas.pydata.org/pandas-docs/stable/indexing.html#indexing-view-versus-copy\n",
      "  import sys\n",
      "/Users/yamada/anaconda3/lib/python3.7/site-packages/ipykernel_launcher.py:8: SettingWithCopyWarning: \n",
      "A value is trying to be set on a copy of a slice from a DataFrame\n",
      "\n",
      "See the caveats in the documentation: http://pandas.pydata.org/pandas-docs/stable/indexing.html#indexing-view-versus-copy\n",
      "  \n",
      "/Users/yamada/anaconda3/lib/python3.7/site-packages/ipykernel_launcher.py:9: SettingWithCopyWarning: \n",
      "A value is trying to be set on a copy of a slice from a DataFrame\n",
      "\n",
      "See the caveats in the documentation: http://pandas.pydata.org/pandas-docs/stable/indexing.html#indexing-view-versus-copy\n",
      "  if __name__ == '__main__':\n",
      "/Users/yamada/anaconda3/lib/python3.7/site-packages/ipykernel_launcher.py:10: SettingWithCopyWarning: \n",
      "A value is trying to be set on a copy of a slice from a DataFrame\n",
      "\n",
      "See the caveats in the documentation: http://pandas.pydata.org/pandas-docs/stable/indexing.html#indexing-view-versus-copy\n",
      "  # Remove the CWD from sys.path while we load stuff.\n",
      "/Users/yamada/anaconda3/lib/python3.7/site-packages/ipykernel_launcher.py:11: SettingWithCopyWarning: \n",
      "A value is trying to be set on a copy of a slice from a DataFrame\n",
      "\n",
      "See the caveats in the documentation: http://pandas.pydata.org/pandas-docs/stable/indexing.html#indexing-view-versus-copy\n",
      "  # This is added back by InteractiveShellApp.init_path()\n"
     ]
    }
   ],
   "source": [
    "df_T[\"label\"][0:3] = \"testis\"\n",
    "df_T[\"label\"][3:6] = \"fat body\"\n",
    "df_T[\"label\"][6:9] = \"midgut\"\n",
    "df_T[\"label\"][9:12] = \"malpighian tubule\"\n",
    "df_T[\"label\"][12:15] = \"silk grand\"\n",
    "\n",
    "df_T[\"num\"][0:3] = 0\n",
    "df_T[\"num\"][3:6] = 1\n",
    "df_T[\"num\"][6:9] = 2\n",
    "df_T[\"num\"][9:12] = 3\n",
    "df_T[\"num\"][12:15] = 4"
   ]
  },
  {
   "cell_type": "code",
   "execution_count": 38,
   "metadata": {},
   "outputs": [
    {
     "data": {
      "text/html": [
       "<div>\n",
       "<style scoped>\n",
       "    .dataframe tbody tr th:only-of-type {\n",
       "        vertical-align: middle;\n",
       "    }\n",
       "\n",
       "    .dataframe tbody tr th {\n",
       "        vertical-align: top;\n",
       "    }\n",
       "\n",
       "    .dataframe thead th {\n",
       "        text-align: right;\n",
       "    }\n",
       "</style>\n",
       "<table border=\"1\" class=\"dataframe\">\n",
       "  <thead>\n",
       "    <tr style=\"text-align: right;\">\n",
       "      <th>Name</th>\n",
       "      <th>label</th>\n",
       "      <th>num</th>\n",
       "    </tr>\n",
       "  </thead>\n",
       "  <tbody>\n",
       "    <tr>\n",
       "      <th>DRR068893</th>\n",
       "      <td>testis</td>\n",
       "      <td>0.0</td>\n",
       "    </tr>\n",
       "    <tr>\n",
       "      <th>DRR068894</th>\n",
       "      <td>testis</td>\n",
       "      <td>0.0</td>\n",
       "    </tr>\n",
       "    <tr>\n",
       "      <th>DRR068895</th>\n",
       "      <td>testis</td>\n",
       "      <td>0.0</td>\n",
       "    </tr>\n",
       "    <tr>\n",
       "      <th>DRR095105</th>\n",
       "      <td>fat body</td>\n",
       "      <td>1.0</td>\n",
       "    </tr>\n",
       "    <tr>\n",
       "      <th>DRR095106</th>\n",
       "      <td>fat body</td>\n",
       "      <td>1.0</td>\n",
       "    </tr>\n",
       "    <tr>\n",
       "      <th>DRR095107</th>\n",
       "      <td>fat body</td>\n",
       "      <td>1.0</td>\n",
       "    </tr>\n",
       "    <tr>\n",
       "      <th>DRR095108</th>\n",
       "      <td>midgut</td>\n",
       "      <td>2.0</td>\n",
       "    </tr>\n",
       "    <tr>\n",
       "      <th>DRR095109</th>\n",
       "      <td>midgut</td>\n",
       "      <td>2.0</td>\n",
       "    </tr>\n",
       "    <tr>\n",
       "      <th>DRR095110</th>\n",
       "      <td>midgut</td>\n",
       "      <td>2.0</td>\n",
       "    </tr>\n",
       "    <tr>\n",
       "      <th>DRR095111</th>\n",
       "      <td>malpighian tubule</td>\n",
       "      <td>3.0</td>\n",
       "    </tr>\n",
       "    <tr>\n",
       "      <th>DRR095112</th>\n",
       "      <td>malpighian tubule</td>\n",
       "      <td>3.0</td>\n",
       "    </tr>\n",
       "    <tr>\n",
       "      <th>DRR095113</th>\n",
       "      <td>malpighian tubule</td>\n",
       "      <td>3.0</td>\n",
       "    </tr>\n",
       "    <tr>\n",
       "      <th>DRR095114</th>\n",
       "      <td>silk grand</td>\n",
       "      <td>4.0</td>\n",
       "    </tr>\n",
       "    <tr>\n",
       "      <th>DRR095115</th>\n",
       "      <td>silk grand</td>\n",
       "      <td>4.0</td>\n",
       "    </tr>\n",
       "    <tr>\n",
       "      <th>DRR095116</th>\n",
       "      <td>silk grand</td>\n",
       "      <td>4.0</td>\n",
       "    </tr>\n",
       "  </tbody>\n",
       "</table>\n",
       "</div>"
      ],
      "text/plain": [
       "Name                   label  num\n",
       "DRR068893             testis  0.0\n",
       "DRR068894             testis  0.0\n",
       "DRR068895             testis  0.0\n",
       "DRR095105           fat body  1.0\n",
       "DRR095106           fat body  1.0\n",
       "DRR095107           fat body  1.0\n",
       "DRR095108             midgut  2.0\n",
       "DRR095109             midgut  2.0\n",
       "DRR095110             midgut  2.0\n",
       "DRR095111  malpighian tubule  3.0\n",
       "DRR095112  malpighian tubule  3.0\n",
       "DRR095113  malpighian tubule  3.0\n",
       "DRR095114         silk grand  4.0\n",
       "DRR095115         silk grand  4.0\n",
       "DRR095116         silk grand  4.0"
      ]
     },
     "execution_count": 38,
     "metadata": {},
     "output_type": "execute_result"
    }
   ],
   "source": [
    "df_T[[\"label\", \"num\"]]"
   ]
  },
  {
   "cell_type": "markdown",
   "metadata": {},
   "source": [
    "plot"
   ]
  },
  {
   "cell_type": "markdown",
   "metadata": {},
   "source": [
    "ラベルつき"
   ]
  },
  {
   "cell_type": "markdown",
   "metadata": {},
   "source": [
    "https://www.tcom242242.site/entry/2017/08/21/185255"
   ]
  },
  {
   "cell_type": "code",
   "execution_count": 69,
   "metadata": {
    "scrolled": false
   },
   "outputs": [
    {
     "data": {
      "image/png": "[encoded data removed]",
      "text/plain": [
       "<Figure size 576x576 with 1 Axes>"
      ]
     },
     "metadata": {
      "needs_background": "light"
     },
     "output_type": "display_data"
    }
   ],
   "source": [
    "plt.figure(figsize=(8, 8))\n",
    "plt.scatter(pca[:,0], pca[:,1], c=df_T[\"num\"], cmap=\"hsv\", marker=\"v\", s=100, alpha=0.5)\n",
    "plt.xlabel(\"PC1\")\n",
    "plt.ylabel(\"PC2\")\n",
    "for i in range(len(df_T)):\n",
    "    plt.annotate(df_T[\"label\"][i] ,xy=(pca[:,0][i], pca[:,1][i]),size=20)\n",
    "plt.savefig(\"pca/pca_label.pdf\", bbox_inches='tight')"
   ]
  },
  {
   "cell_type": "markdown",
   "metadata": {},
   "source": [
    "全体"
   ]
  },
  {
   "cell_type": "code",
   "execution_count": null,
   "metadata": {},
   "outputs": [],
   "source": [
    "import pandas as pd\n",
    "import matplotlib.pyplot as plt\n",
    "#scikit-learnを使用\n",
    "from sklearn.decomposition import PCA\n",
    "\n",
    "#txtの読み込み、1列目をindexに使用\n",
    "df = pd.read_csv(\"output/kaiko_5tissues_2.txt\", sep='\\t', index_col=0)\n",
    "df_T = df.T\n",
    "#PCAの実行\n",
    "pca = PCA(n_components=2).fit_transform(df_T)\n",
    "\n",
    "#plot\n",
    "plt.figure(figsize=(8, 8))\n",
    "plt.scatter(pca[:,0], pca[:,1], s=10)"
   ]
  },
  {
   "cell_type": "code",
   "execution_count": null,
   "metadata": {},
   "outputs": [],
   "source": [
    "#ラベルを追加\n",
    "df_T[\"label\"] = pd.Series()\n",
    "df_T[\"num\"] = pd.Series()\n",
    "\n",
    "df_T[\"label\"][0:3] = \"testis\"\n",
    "df_T[\"label\"][3:6] = \"fat body\"\n",
    "df_T[\"label\"][6:9] = \"midgut\"\n",
    "df_T[\"label\"][9:12] = \"malpighian tubule\"\n",
    "df_T[\"label\"][12:15] = \"silk grand\"\n",
    "\n",
    "df_T[\"num\"][0:3] = 0\n",
    "df_T[\"num\"][3:6] = 1\n",
    "df_T[\"num\"][6:9] = 2\n",
    "df_T[\"num\"][9:12] = 3\n",
    "df_T[\"num\"][12:15] = 4"
   ]
  },
  {
   "cell_type": "markdown",
   "metadata": {},
   "source": [
    "#### 寄与率、累積寄与率の確認"
   ]
  },
  {
   "cell_type": "markdown",
   "metadata": {},
   "source": [
    "http://swdrsker.hatenablog.com/entry/2016/12/16/023115"
   ]
  },
  {
   "cell_type": "code",
   "execution_count": 71,
   "metadata": {},
   "outputs": [],
   "source": [
    "df_T = df_T.drop([\"label\", \"num\"], axis=1)"
   ]
  },
  {
   "cell_type": "code",
   "execution_count": 73,
   "metadata": {},
   "outputs": [
    {
     "data": {
      "text/plain": [
       "PCA(copy=True, iterated_power='auto', n_components=2, random_state=None,\n",
       "    svd_solver='auto', tol=0.0, whiten=False)"
      ]
     },
     "execution_count": 73,
     "metadata": {},
     "output_type": "execute_result"
    }
   ],
   "source": [
    "PCA(n_components=2).fit(df_T)"
   ]
  },
  {
   "cell_type": "code",
   "execution_count": 82,
   "metadata": {},
   "outputs": [],
   "source": [
    "pca_ = PCA().fit(df_T)"
   ]
  },
  {
   "cell_type": "code",
   "execution_count": 83,
   "metadata": {},
   "outputs": [
    {
     "data": {
      "text/plain": [
       "array([[-3.35249525e-07, -3.35641680e-08, -1.46715858e-06, ...,\n",
       "        -0.00000000e+00,  6.07361126e-06, -0.00000000e+00],\n",
       "       [ 4.01251146e-07, -5.30525595e-08,  7.90073178e-06, ...,\n",
       "        -0.00000000e+00,  1.47871035e-06, -0.00000000e+00],\n",
       "       [-1.27309796e-05, -1.60054365e-07, -1.75217842e-05, ...,\n",
       "         0.00000000e+00, -2.34159578e-04,  0.00000000e+00],\n",
       "       ...,\n",
       "       [ 8.06658540e-05,  8.81047246e-07, -5.70902317e-04, ...,\n",
       "         0.00000000e+00, -2.17689024e-04,  0.00000000e+00],\n",
       "       [ 6.02981638e-05, -1.02638790e-05, -6.00509829e-05, ...,\n",
       "         0.00000000e+00, -8.40015527e-04,  0.00000000e+00],\n",
       "       [-1.67656913e-01, -6.50741378e-02,  1.39098674e-02, ...,\n",
       "        -0.00000000e+00,  1.00952434e-04, -0.00000000e+00]])"
      ]
     },
     "execution_count": 83,
     "metadata": {},
     "output_type": "execute_result"
    }
   ],
   "source": [
    "pca_.components_"
   ]
  },
  {
   "cell_type": "code",
   "execution_count": 85,
   "metadata": {},
   "outputs": [
    {
     "data": {
      "text/plain": [
       "array([5.51484596e-01, 2.72549802e-01, 1.15480018e-01, 6.02810093e-02,\n",
       "       1.46647009e-04, 3.79759124e-05, 7.23414790e-06, 4.15427035e-06,\n",
       "       3.24610922e-06, 1.84694528e-06, 1.48396669e-06, 9.76604577e-07,\n",
       "       6.66869345e-07, 3.43683325e-07, 9.53376327e-33])"
      ]
     },
     "execution_count": 85,
     "metadata": {},
     "output_type": "execute_result"
    }
   ],
   "source": [
    "#寄与率\n",
    "pca_.explained_variance_ratio_"
   ]
  },
  {
   "cell_type": "code",
   "execution_count": 100,
   "metadata": {},
   "outputs": [
    {
     "data": {
      "image/png": "[encoded data removed]",
      "text/plain": [
       "<Figure size 432x288 with 1 Axes>"
      ]
     },
     "metadata": {
      "needs_background": "light"
     },
     "output_type": "display_data"
    }
   ],
   "source": [
    "plt.bar([n for n in range(1, len(pca_.explained_variance_ratio_)+1)], pca_.explained_variance_ratio_)\n",
    "plt.title(\"Proportion of Variance\")\n",
    "plt.xlabel(\"num of components\")\n",
    "plt.ylabel(\"Proportion Variance\")\n",
    "plt.savefig(\"pca/Proportion_Variance.pdf\")"
   ]
  },
  {
   "cell_type": "code",
   "execution_count": 87,
   "metadata": {},
   "outputs": [],
   "source": [
    "import numpy as np"
   ]
  },
  {
   "cell_type": "code",
   "execution_count": 88,
   "metadata": {},
   "outputs": [],
   "source": [
    "ev_ratio = pca_.explained_variance_ratio_\n",
    "ev_ratio = np.hstack([0,ev_ratio.cumsum()])"
   ]
  },
  {
   "cell_type": "code",
   "execution_count": 89,
   "metadata": {},
   "outputs": [
    {
     "data": {
      "text/plain": [
       "array([0.        , 0.5514846 , 0.8240344 , 0.93951442, 0.99979542,\n",
       "       0.99994207, 0.99998005, 0.99998728, 0.99999144, 0.99999468,\n",
       "       0.99999653, 0.99999801, 0.99999899, 0.99999966, 1.        ,\n",
       "       1.        ])"
      ]
     },
     "execution_count": 89,
     "metadata": {},
     "output_type": "execute_result"
    }
   ],
   "source": [
    "ev_ratio"
   ]
  },
  {
   "cell_type": "code",
   "execution_count": 97,
   "metadata": {},
   "outputs": [
    {
     "data": {
      "image/png": "[encoded data removed]",
      "text/plain": [
       "<Figure size 432x288 with 1 Axes>"
      ]
     },
     "metadata": {
      "needs_background": "light"
     },
     "output_type": "display_data"
    }
   ],
   "source": [
    "plt.plot(ev_ratio)\n",
    "plt.title(\"Cumulative Proportion\")\n",
    "plt.xlabel(\"num of components\")\n",
    "plt.ylabel(\"explained variance ratio\")\n",
    "plt.savefig(\"pca/Cumulative_Proportion.pdf\")"
   ]
  },
  {
   "cell_type": "markdown",
   "metadata": {},
   "source": [
    "全体"
   ]
  },
  {
   "cell_type": "code",
   "execution_count": null,
   "metadata": {},
   "outputs": [],
   "source": [
    "df_T = df_T.drop([\"label\", \"num\"], axis=1)\n",
    "pca_ = PCA().fit(df_T)\n",
    "#plot\n",
    "plt.bar([n for n in range(1, len(pca_.explained_variance_ratio_)+1)],\\\n",
    "        pca_.explained_variance_ratio_)\n",
    "plt.title(\"Proportion of Variance\")\n",
    "plt.xlabel(\"num of components\")\n",
    "plt.ylabel(\"Proportion Variance\")\n",
    "plt.savefig(\"pca/Proportion_Variance.pdf\")"
   ]
  },
  {
   "cell_type": "code",
   "execution_count": null,
   "metadata": {},
   "outputs": [],
   "source": [
    "import numpy as np\n",
    "\n",
    "ev_ratio = pca_.explained_variance_ratio_\n",
    "ev_ratio = np.hstack([0,ev_ratio.cumsum()])\n",
    "#plot\n",
    "plt.plot(ev_ratio)\n",
    "plt.title(\"Cumulative Proportion\")\n",
    "plt.xlabel(\"num of components\")\n",
    "plt.ylabel(\"explained variance ratio\")\n",
    "plt.savefig(\"pca/Cumulative_Proportion.pdf\")"
   ]
  }
 ],
 "metadata": {
  "file_extension": ".py",
  "kernelspec": {
   "display_name": "Python 3",
   "language": "python",
   "name": "python3"
  },
  "language_info": {
   "codemirror_mode": {
    "name": "ipython",
    "version": 3
   },
   "file_extension": ".py",
   "mimetype": "text/x-python",
   "name": "python",
   "nbconvert_exporter": "python",
   "pygments_lexer": "ipython3",
   "version": "3.7.3"
  },
  "mimetype": "text/x-python",
  "name": "python",
  "npconvert_exporter": "python",
  "pygments_lexer": "ipython3",
  "toc": {
   "base_numbering": 1,
   "nav_menu": {},
   "number_sections": true,
   "sideBar": true,
   "skip_h1_title": false,
   "title_cell": "Table of Contents",
   "title_sidebar": "Contents",
   "toc_cell": false,
   "toc_position": {},
   "toc_section_display": true,
   "toc_window_display": false
  },
  "version": 3
 },
 "nbformat": 4,
 "nbformat_minor": 2
}
