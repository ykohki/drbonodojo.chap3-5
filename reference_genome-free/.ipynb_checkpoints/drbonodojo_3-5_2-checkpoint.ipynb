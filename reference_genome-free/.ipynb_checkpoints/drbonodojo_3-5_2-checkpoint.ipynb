{
 "cells": [
  {
   "cell_type": "markdown",
   "metadata": {},
   "source": [
    "## 参照ゲノム配列なしのRNA-seq解析手法"
   ]
  },
  {
   "cell_type": "markdown",
   "metadata": {},
   "source": [
    "### 入力配列の品質管理"
   ]
  },
  {
   "cell_type": "code",
   "execution_count": null,
   "metadata": {},
   "outputs": [],
   "source": [
    "!conda install -c bioconda trim-galore -y"
   ]
  },
  {
   "cell_type": "code",
   "execution_count": null,
   "metadata": {},
   "outputs": [],
   "source": [
    "!pwd"
   ]
  },
  {
   "cell_type": "code",
   "execution_count": null,
   "metadata": {},
   "outputs": [],
   "source": [
    "%cd trim_galore/"
   ]
  },
  {
   "cell_type": "code",
   "execution_count": null,
   "metadata": {},
   "outputs": [],
   "source": [
    "#trim galoreの実行\n",
    "!time for drr in DRR068893 DRR068894 DRR068895; do trim_galore --fastqc -o trim_galore/ --paired $drr.sra_1.fastq.gz $drr.sra_2.fastq.gz ; done "
   ]
  },
  {
   "cell_type": "code",
   "execution_count": null,
   "metadata": {},
   "outputs": [],
   "source": [
    "#中身の確認\n",
    "!ls trim_galore/"
   ]
  },
  {
   "cell_type": "code",
   "execution_count": null,
   "metadata": {},
   "outputs": [],
   "source": [
    "#fastqcのレポートを見てみる\n",
    "!open trim_galore/DRR068893.sra_1_val_1_fastqc.html"
   ]
  },
  {
   "cell_type": "markdown",
   "metadata": {},
   "source": [
    "### Trinityの実行"
   ]
  },
  {
   "cell_type": "code",
   "execution_count": null,
   "metadata": {},
   "outputs": [],
   "source": [
    "#condaではなく、Homebrewで。\n",
    "!brew install trinity\n",
    "#Javaが必要ならば\n",
    "#!brew cask install Java "
   ]
  },
  {
   "cell_type": "code",
   "execution_count": null,
   "metadata": {},
   "outputs": [],
   "source": [
    "#fastqファイルのヘッダ改変スクリプトを取得\n",
    "!curl -O curl -O https://raw.githubusercontent.com/bonohu/denovoTA/master/for_trinity.pl\n",
    "#3種類*2（ペア）＝6つのファイルに対してスクリプトを実行する\n",
    "!for drr in DRR068893 DRR068894 DRR068895; do echo \"processing ${drr}_1\" && pigz -dc trim_galore/$drr.sra_1_val_1.fq.gz | perl for_trinity.pl 1 | pigz -c > ${drr}_1.fq.gz && echo \"processing ${drr}_2\" && pigz -dc trim_galore/$drr.sra_2_val_2.fq.gz | perl for_trinity.pl 2 | pigz -c > ${drr}_2.fq.gz ; done"
   ]
  },
  {
   "cell_type": "code",
   "execution_count": null,
   "metadata": {},
   "outputs": [],
   "source": [
    "#trinityの実行\n",
    "#これは2、3日間かかる。\n",
    "!Trinity --seqType fq --trimmomatic --left DRR068893_1.fq.gz,DRR068894_1.fq.gz,DRR068895_1.fq.gz --right DRR068893_2.fq.gz,DRR068894_2.fq.gz,DRR068895_2.fq.gz --max_memory 500G --CPU 20 "
   ]
  },
  {
   "cell_type": "code",
   "execution_count": 1,
   "metadata": {},
   "outputs": [
    {
     "name": "stdout",
     "output_type": "stream",
     "text": [
      ">TRINITY_DN2_c0_g1_i1 len=4006 path=[0:0-4005]\u001b[m\n",
      "\u001b[KGAAGAGCCTCGGCCACCTCCAGGTTGTTATACCCGGCAGCCAAATGCAAGGGCGTGGAGTTACGTCCGTGCGCGTCCCGG\u001b[m:\u001b[K"
     ]
    }
   ],
   "source": [
    "!less trinity_out_dir/trinity.fasta"
   ]
  },
  {
   "cell_type": "code",
   "execution_count": 2,
   "metadata": {},
   "outputs": [
    {
     "name": "stdout",
     "output_type": "stream",
     "text": [
      "85999\n"
     ]
    }
   ],
   "source": [
    "#得られた配列クラスタ数をカウント\n",
    "!grep -c ^\\> trinity_out_dir/trinity.fasta"
   ]
  },
  {
   "cell_type": "markdown",
   "metadata": {},
   "source": [
    "### 発現定量"
   ]
  },
  {
   "cell_type": "code",
   "execution_count": 10,
   "metadata": {},
   "outputs": [
    {
     "name": "stdout",
     "output_type": "stream",
     "text": [
      "m 11,500,000 \u001b[32mfragments\u001b[0m\n",
      "\u001b[32mprocessed\u001b[31m 12,000,000 \u001b[32mfragments\u001b[0m\n",
      "\u001b[32mprocessed\u001b[31m 12,500,000 \u001b[32mfragments\u001b[0m\n",
      "\u001b[32mprocessed\u001b[31m 13,000,000 \u001b[32mfragments\u001b[0m\n",
      "\u001b[32mprocessed\u001b[31m 13,500,000 \u001b[32mfragments\u001b[0m\n",
      "\u001b[32mprocessed\u001b[31m 14,000,000 \u001b[32mfragments\u001b[0m\n",
      "\u001b[32mprocessed\u001b[31m 14,500,000 \u001b[32mfragments\u001b[0m\n",
      "\u001b[32mprocessed\u001b[31m 15,000,000 \u001b[32mfragments\u001b[0m\n",
      "\u001b[32mprocessed\u001b[31m 15,500,000 \u001b[32mfragments\u001b[0m\n",
      "\u001b[32mprocessed\u001b[31m 16,000,000 \u001b[32mfragments\u001b[0m\n",
      "\u001b[32mprocessed\u001b[31m 16,500,000 \u001b[32mfragments\u001b[0m\n",
      "hits: 24,017,838, hits per frag:  1.45639\n",
      "\n",
      "\n",
      "\n",
      "\n",
      "\n",
      "\n",
      "\n",
      "\u001b[00m[2019-10-16 12:29:57.666] [jointLog] [info] Computed 137,477 rich equivalence classes for further processing\n",
      "\u001b[00m\u001b[00m[2019-10-16 12:29:57.666] [jointLog] [info] Counted 9,999,710 total reads in the equivalence classes \n",
      "\u001b[00m\u001b[00m[2019-10-16 12:29:57.672] [jointLog] [info] Number of mappings discarded because of alignment score : 1,683,505\n",
      "\u001b[00m\u001b[00m[2019-10-16 12:29:57.672] [jointLog] [info] Number of fragments entirely discarded because of alignment score : 201,730\n",
      "\u001b[00m\u001b[00m[2019-10-16 12:29:57.672] [jointLog] [info] Number of fragments discarded because they are best-mapped to decoys : 0\n",
      "\u001b[00m\u001b[00m[2019-10-16 12:29:57.672] [jointLog] [info] Number of fragments discarded because they have only dovetail (discordant) mappings : 6,306,688\n",
      "\u001b[00m\u001b[00m[2019-10-16 12:29:57.672] [jointLog] [info] Mapping rate = 59.7714%\n",
      "\n",
      "\u001b[00m\u001b[00m[2019-10-16 12:29:57.672] [jointLog] [info] finished quantifyLibrary()\n",
      "\u001b[00m\u001b[00m[2019-10-16 12:29:57.673] [jointLog] [info] Starting optimizer\n",
      "\u001b[00m\u001b[00m[2019-10-16 12:29:57.731] [jointLog] [info] Marked 0 weighted equivalence classes as degenerate\n",
      "\u001b[00m\u001b[00m[2019-10-16 12:29:57.738] [jointLog] [info] iteration = 0 | max rel diff. = 9062.08\n",
      "\u001b[00m\u001b[00m[2019-10-16 12:29:58.350] [jointLog] [info] iteration = 100 | max rel diff. = 18.8021\n",
      "\u001b[00m\u001b[00m[2019-10-16 12:29:58.967] [jointLog] [info] iteration = 200 | max rel diff. = 4.79359\n",
      "\u001b[00m\u001b[00m[2019-10-16 12:29:59.677] [jointLog] [info] iteration = 300 | max rel diff. = 2.39052\n",
      "\u001b[00m\u001b[00m[2019-10-16 12:30:00.343] [jointLog] [info] iteration = 400 | max rel diff. = 3.86397\n",
      "\u001b[00m\u001b[00m[2019-10-16 12:30:00.958] [jointLog] [info] iteration = 500 | max rel diff. = 0.664607\n",
      "\u001b[00m\u001b[00m[2019-10-16 12:30:01.542] [jointLog] [info] iteration = 600 | max rel diff. = 0.522887\n",
      "\u001b[00m\u001b[00m[2019-10-16 12:30:02.114] [jointLog] [info] iteration = 700 | max rel diff. = 0.146404\n",
      "\u001b[00m\u001b[00m[2019-10-16 12:30:02.678] [jointLog] [info] iteration = 800 | max rel diff. = 0.226606\n",
      "\u001b[00m\u001b[00m[2019-10-16 12:30:03.255] [jointLog] [info] iteration = 900 | max rel diff. = 1.10488\n",
      "\u001b[00m\u001b[00m[2019-10-16 12:30:03.814] [jointLog] [info] iteration = 1,000 | max rel diff. = 0.530933\n",
      "\u001b[00m\u001b[00m[2019-10-16 12:30:04.366] [jointLog] [info] iteration = 1,100 | max rel diff. = 1.64768\n",
      "\u001b[00m\u001b[00m[2019-10-16 12:30:04.911] [jointLog] [info] iteration = 1,200 | max rel diff. = 2.16384\n",
      "\u001b[00m\u001b[00m[2019-10-16 12:30:05.458] [jointLog] [info] iteration = 1,300 | max rel diff. = 0.0969096\n",
      "\u001b[00m\u001b[00m[2019-10-16 12:30:06.006] [jointLog] [info] iteration = 1,400 | max rel diff. = 0.0508107\n",
      "\u001b[00m\u001b[00m[2019-10-16 12:30:06.569] [jointLog] [info] iteration = 1,500 | max rel diff. = 0.110068\n",
      "\u001b[00m\u001b[00m[2019-10-16 12:30:07.101] [jointLog] [info] iteration = 1,600 | max rel diff. = 0.112072\n",
      "\u001b[00m\u001b[00m[2019-10-16 12:30:07.657] [jointLog] [info] iteration = 1,700 | max rel diff. = 0.0351696\n",
      "\u001b[00m\u001b[00m[2019-10-16 12:30:08.212] [jointLog] [info] iteration = 1,800 | max rel diff. = 0.167791\n",
      "\u001b[00m\u001b[00m[2019-10-16 12:30:08.768] [jointLog] [info] iteration = 1,900 | max rel diff. = 0.0465845\n",
      "\u001b[00m\u001b[00m[2019-10-16 12:30:09.304] [jointLog] [info] iteration = 2,000 | max rel diff. = 0.0428271\n",
      "\u001b[00m\u001b[00m[2019-10-16 12:30:09.848] [jointLog] [info] iteration = 2,100 | max rel diff. = 0.0269986\n",
      "\u001b[00m\u001b[00m[2019-10-16 12:30:10.386] [jointLog] [info] iteration = 2,200 | max rel diff. = 0.120882\n",
      "\u001b[00m\u001b[00m[2019-10-16 12:30:10.918] [jointLog] [info] iteration = 2,300 | max rel diff. = 0.191924\n",
      "\u001b[00m\u001b[00m[2019-10-16 12:30:11.448] [jointLog] [info] iteration = 2,400 | max rel diff. = 0.0895794\n",
      "\u001b[00m\u001b[00m[2019-10-16 12:30:11.978] [jointLog] [info] iteration = 2,500 | max rel diff. = 0.0469897\n",
      "\u001b[00m\u001b[00m[2019-10-16 12:30:12.238] [jointLog] [info] iteration = 2,550 | max rel diff. = 0.00888967\n",
      "\u001b[00m\u001b[00m[2019-10-16 12:30:12.240] [jointLog] [info] Finished optimizer\n",
      "\u001b[00m\u001b[00m[2019-10-16 12:30:12.240] [jointLog] [info] writing output \n",
      "\n",
      "\u001b[00m\u001b[33m\u001b[1m[2019-10-16 12:30:12.384] [jointLog] [warning] NOTE: Read Lib [[ /Users/yamada/bioinformatics/drbonodojo/datadojo/3-5-2-gene/DRR068893_1.fq.gz, /Users/yamada/bioinformatics/drbonodojo/datadojo/3-5-2-gene/DRR068893_2.fq.gz]] :\n",
      "\n",
      "Detected a *potential* strand bias > 1% in an unstranded protocol check the file: testis_rep1/lib_format_counts.json for details\n",
      "\n",
      "\u001b[00mCMD: salmon quant -i /Users/yamada/bioinformatics/drbonodojo/datadojo/3-5-2-gene/trinity_out_dir/Trinity.fasta.salmon_quasi.idx -l IU -1 /Users/yamada/bioinformatics/drbonodojo/datadojo/3-5-2-gene/DRR068894_1.fq.gz -2 /Users/yamada/bioinformatics/drbonodojo/datadojo/3-5-2-gene/DRR068894_2.fq.gz -o testis_rep2 --validateMappings -p 4\n",
      "Version Info: This is the most recent version of salmon.\n",
      "### salmon (mapping-based) v0.14.1\n",
      "### [ program ] => salmon \n",
      "### [ command ] => quant \n",
      "### [ index ] => { /Users/yamada/bioinformatics/drbonodojo/datadojo/3-5-2-gene/trinity_out_dir/Trinity.fasta.salmon_quasi.idx }\n",
      "### [ libType ] => { IU }\n",
      "### [ mates1 ] => { /Users/yamada/bioinformatics/drbonodojo/datadojo/3-5-2-gene/DRR068894_1.fq.gz }\n",
      "### [ mates2 ] => { /Users/yamada/bioinformatics/drbonodojo/datadojo/3-5-2-gene/DRR068894_2.fq.gz }\n",
      "### [ output ] => { testis_rep2 }\n",
      "### [ validateMappings ] => { }\n",
      "### [ threads ] => { 4 }\n",
      "Logs will be written to testis_rep2/logs\n",
      "\u001b[00m[2019-10-16 12:30:14.230] [jointLog] [info] Fragment incompatibility prior below threshold.  Incompatible fragments will be ignored.\n",
      "\u001b[00m\u001b[00m[2019-10-16 12:30:14.230] [jointLog] [info] Usage of --validateMappings implies use of minScoreFraction. Since not explicitly specified, it is being set to 0.65\n",
      "\u001b[00m\u001b[00m[2019-10-16 12:30:14.230] [jointLog] [info] Usage of --validateMappings, without --hardFilter implies use of range factorization. rangeFactorizationBins is being set to 4\n",
      "\u001b[00m\u001b[00m[2019-10-16 12:30:14.230] [jointLog] [info] Usage of --validateMappings implies a default consensus slack of 0.2. Setting consensusSlack to 0.2.\n",
      "\u001b[00m\u001b[00m[2019-10-16 12:30:14.230] [jointLog] [info] parsing read library format\n",
      "\u001b[00m\u001b[00m[2019-10-16 12:30:14.230] [jointLog] [info] There is 1 library.\n",
      "\u001b[00m\u001b[00m[2019-10-16 12:30:14.290] [jointLog] [info] Loading Quasi index\n",
      "\u001b[00m\u001b[00m[2019-10-16 12:30:14.291] [jointLog] [info] Loading 32-bit quasi index\n",
      "\u001b[00m\u001b[00m[2019-10-16 12:30:14.291] [stderrLog] [info] Loading Suffix Array \n",
      "\u001b[00m\u001b[00m[2019-10-16 12:30:14.656] [stderrLog] [info] Loading Transcript Info \n",
      "\u001b[00m\u001b[00m[2019-10-16 12:30:14.761] [stderrLog] [info] Loading Rank-Select Bit Array\n",
      "\u001b[00m\u001b[00m[2019-10-16 12:30:14.777] [stderrLog] [info] There were 85,999 set bits in the bit array\n",
      "\u001b[00m\u001b[00m[2019-10-16 12:30:14.781] [stderrLog] [info] Computing transcript lengths\n",
      "\u001b[00m\u001b[00m[2019-10-16 12:30:14.781] [stderrLog] [info] Waiting to finish loading hash\n",
      "\u001b[00m\n",
      "\n",
      "\n",
      "\n",
      "\u001b[00m[2019-10-16 12:30:16.318] [jointLog] [info] done\n",
      "\u001b[00m\u001b[00m[2019-10-16 12:30:16.318] [jointLog] [info] Index contained 85,999 targets\n",
      "\u001b[00m\u001b[00m[2019-10-16 12:30:16.318] [stderrLog] [info] Done loading index\n",
      "\u001b[32mprocessed\u001b[31m 500,000 \u001b[32mfragments\u001b[0m\n",
      "\u001b[32mprocessed\u001b[31m 1,000,000 \u001b[32mfragments\u001b[0m\n",
      "\u001b[32mprocessed\u001b[31m 1,500,001 \u001b[32mfragments\u001b[0m\n",
      "\u001b[32mprocessed\u001b[31m 2,000,000 \u001b[32mfragments\u001b[0m\n",
      "\u001b[32mprocessed\u001b[31m 2,500,000 \u001b[32mfragments\u001b[0m\n",
      "\u001b[32mprocessed\u001b[31m 3,000,000 \u001b[32mfragments\u001b[0m\n",
      "\u001b[32mprocessed\u001b[31m 3,500,000 \u001b[32mfragments\u001b[0m\n",
      "\u001b[32mprocessed\u001b[31m 4,000,000 \u001b[32mfragments\u001b[0m\n",
      "\u001b[32mprocessed\u001b[31m 4,500,000 \u001b[32mfragments\u001b[0m\n",
      "\u001b[32mprocessed\u001b[31m 5,000,000 \u001b[32mfragments\u001b[0m\n",
      "\u001b[32mprocessed\u001b[31m 5,500,001 \u001b[32mfragments\u001b[0m\n",
      "\u001b[32mprocessed\u001b[31m 6,000,000 \u001b[32mfragments\u001b[0m\n",
      "\u001b[32mprocessed\u001b[31m 6,500,000 \u001b[32mfragments\u001b[0m\n",
      "\u001b[32mprocessed\u001b[31m 7,000,000 \u001b[32mfragments\u001b[0m\n",
      "\u001b[32mprocessed\u001b[31m 7,500,000 \u001b[32mfragments\u001b[0m\n",
      "\u001b[32mprocessed\u001b[31m 8,000,000 \u001b[32mfragments\u001b[0m\n",
      "\u001b[32mprocessed\u001b[31m 8,500,000 \u001b[32mfragments\u001b[0m\n",
      "\u001b[32mprocessed\u001b[31m 9,000,000 \u001b[32mfragments\u001b[0m\n",
      "\u001b[32mprocessed\u001b[31m 9,500,000 \u001b[32mfragments\u001b[0m\n",
      "\u001b[32mprocessed\u001b[31m 10,000,000 \u001b[32mfragments\u001b[0m\n",
      "\u001b[32mprocessed\u001b[31m 10,500,000 \u001b[32mfragments\u001b[0m\n",
      "\u001b[32mprocessed\u001b[31m 11,000,000 \u001b[32mfragments\u001b[0m\n",
      "\u001b[32mprocessed\u001b[31m 11,500,000 \u001b[32mfragments\u001b[0m\n",
      "\u001b[32mprocessed\u001b[31m 12,000,000 \u001b[32mfragments\u001b[0m\n",
      "\u001b[32mprocessed\u001b[31m 12,500,000 \u001b[32mfragments\u001b[0m\n",
      "\u001b[32mprocessed\u001b[31m 13,000,000 \u001b[32mfragments\u001b[0m\n",
      "\u001b[32mprocessed\u001b[31m 13,500,000 \u001b[32mfragments\u001b[0m\n",
      "\u001b[32mprocessed\u001b[31m 14,000,000 \u001b[32mfragments\u001b[0m\n",
      "\u001b[32mprocessed\u001b[31m 14,500,000 \u001b[32mfragments\u001b[0m\n",
      "\u001b[32mprocessed\u001b[31m 15,000,000 \u001b[32mfragments\u001b[0m\n",
      "\u001b[32mprocessed\u001b[31m 15,500,000 \u001b[32mfragments\u001b[0m\n",
      "\u001b[32mprocessed\u001b[31m 16,000,000 \u001b[32mfragments\u001b[0m\n",
      "\u001b[32mprocessed\u001b[31m 16,500,000 \u001b[32mfragments\u001b[0m\n",
      "hits: 24,012,720, hits per frag:  1.45546\n",
      "\n",
      "\n",
      "\n",
      "\n",
      "\n",
      "\n",
      "\n",
      "\u001b[00m[2019-10-16 12:33:38.429] [jointLog] [info] Computed 137,026 rich equivalence classes for further processing\n",
      "\u001b[00m\u001b[00m[2019-10-16 12:33:38.429] [jointLog] [info] Counted 10,088,152 total reads in the equivalence classes \n",
      "\u001b[00m\u001b[00m[2019-10-16 12:33:38.435] [jointLog] [info] Number of mappings discarded because of alignment score : 1,666,549\n",
      "\u001b[00m\u001b[00m[2019-10-16 12:33:38.435] [jointLog] [info] Number of fragments entirely discarded because of alignment score : 202,486\n",
      "\u001b[00m\u001b[00m[2019-10-16 12:33:38.435] [jointLog] [info] Number of fragments discarded because they are best-mapped to decoys : 0\n",
      "\u001b[00m\u001b[00m[2019-10-16 12:33:38.435] [jointLog] [info] Number of fragments discarded because they have only dovetail (discordant) mappings : 6,368,394\n",
      "\u001b[00m\u001b[00m[2019-10-16 12:33:38.435] [jointLog] [info] Mapping rate = 59.753%\n",
      "\n",
      "\u001b[00m\u001b[00m[2019-10-16 12:33:38.435] [jointLog] [info] finished quantifyLibrary()\n",
      "\u001b[00m\u001b[00m[2019-10-16 12:33:38.435] [jointLog] [info] Starting optimizer\n",
      "\u001b[00m\u001b[00m[2019-10-16 12:33:38.475] [jointLog] [info] Marked 0 weighted equivalence classes as degenerate\n",
      "\u001b[00m\u001b[00m[2019-10-16 12:33:38.481] [jointLog] [info] iteration = 0 | max rel diff. = 7849.53\n",
      "\u001b[00m\u001b[00m[2019-10-16 12:33:39.106] [jointLog] [info] iteration = 100 | max rel diff. = 12.4008\n",
      "\u001b[00m\u001b[00m[2019-10-16 12:33:39.724] [jointLog] [info] iteration = 200 | max rel diff. = 19.9056\n",
      "\u001b[00m\u001b[00m[2019-10-16 12:33:40.344] [jointLog] [info] iteration = 300 | max rel diff. = 5.75308\n",
      "\u001b[00m\u001b[00m[2019-10-16 12:33:40.998] [jointLog] [info] iteration = 400 | max rel diff. = 3.6775\n",
      "\u001b[00m\u001b[00m[2019-10-16 12:33:41.632] [jointLog] [info] iteration = 500 | max rel diff. = 1.58106\n",
      "\u001b[00m\u001b[00m[2019-10-16 12:33:42.237] [jointLog] [info] iteration = 600 | max rel diff. = 0.950503\n",
      "\u001b[00m\u001b[00m[2019-10-16 12:33:42.825] [jointLog] [info] iteration = 700 | max rel diff. = 0.344893\n",
      "\u001b[00m\u001b[00m[2019-10-16 12:33:43.430] [jointLog] [info] iteration = 800 | max rel diff. = 0.895938\n",
      "\u001b[00m\u001b[00m[2019-10-16 12:33:44.028] [jointLog] [info] iteration = 900 | max rel diff. = 0.0678235\n",
      "\u001b[00m\u001b[00m[2019-10-16 12:33:44.639] [jointLog] [info] iteration = 1,000 | max rel diff. = 6.87391\n",
      "\u001b[00m\u001b[00m[2019-10-16 12:33:45.233] [jointLog] [info] iteration = 1,100 | max rel diff. = 0.0501598\n",
      "\u001b[00m\u001b[00m[2019-10-16 12:33:45.816] [jointLog] [info] iteration = 1,200 | max rel diff. = 0.143678\n",
      "\u001b[00m\u001b[00m[2019-10-16 12:33:46.410] [jointLog] [info] iteration = 1,300 | max rel diff. = 0.0958906\n",
      "\u001b[00m\u001b[00m[2019-10-16 12:33:46.987] [jointLog] [info] iteration = 1,400 | max rel diff. = 0.100061\n",
      "\u001b[00m\u001b[00m[2019-10-16 12:33:47.562] [jointLog] [info] iteration = 1,500 | max rel diff. = 0.271269\n",
      "\u001b[00m\u001b[00m[2019-10-16 12:33:48.134] [jointLog] [info] iteration = 1,600 | max rel diff. = 0.568324\n",
      "\u001b[00m\u001b[00m[2019-10-16 12:33:48.731] [jointLog] [info] iteration = 1,700 | max rel diff. = 0.548138\n",
      "\u001b[00m\u001b[00m[2019-10-16 12:33:49.304] [jointLog] [info] iteration = 1,800 | max rel diff. = 0.0926057\n",
      "\u001b[00m\u001b[00m[2019-10-16 12:33:49.877] [jointLog] [info] iteration = 1,900 | max rel diff. = 0.106822\n",
      "\u001b[00m\u001b[00m[2019-10-16 12:33:50.299] [jointLog] [info] iteration = 1,975 | max rel diff. = 0.00425351\n",
      "\u001b[00m\u001b[00m[2019-10-16 12:33:50.300] [jointLog] [info] Finished optimizer\n",
      "\u001b[00m\u001b[00m[2019-10-16 12:33:50.300] [jointLog] [info] writing output \n",
      "\n",
      "\u001b[00m\u001b[33m\u001b[1m[2019-10-16 12:33:50.438] [jointLog] [warning] NOTE: Read Lib [[ /Users/yamada/bioinformatics/drbonodojo/datadojo/3-5-2-gene/DRR068894_1.fq.gz, /Users/yamada/bioinformatics/drbonodojo/datadojo/3-5-2-gene/DRR068894_2.fq.gz]] :\n",
      "\n",
      "Detected a *potential* strand bias > 1% in an unstranded protocol check the file: testis_rep2/lib_format_counts.json for details\n",
      "\n",
      "\u001b[00mCMD: salmon quant -i /Users/yamada/bioinformatics/drbonodojo/datadojo/3-5-2-gene/trinity_out_dir/Trinity.fasta.salmon_quasi.idx -l IU -1 /Users/yamada/bioinformatics/drbonodojo/datadojo/3-5-2-gene/DRR068895_1.fq.gz -2 /Users/yamada/bioinformatics/drbonodojo/datadojo/3-5-2-gene/DRR068895_2.fq.gz -o testis_rep3 --validateMappings -p 4\n",
      "Version Info: This is the most recent version of salmon.\n",
      "### salmon (mapping-based) v0.14.1\n",
      "### [ program ] => salmon \n",
      "### [ command ] => quant \n",
      "### [ index ] => { /Users/yamada/bioinformatics/drbonodojo/datadojo/3-5-2-gene/trinity_out_dir/Trinity.fasta.salmon_quasi.idx }\n",
      "### [ libType ] => { IU }\n",
      "### [ mates1 ] => { /Users/yamada/bioinformatics/drbonodojo/datadojo/3-5-2-gene/DRR068895_1.fq.gz }\n",
      "### [ mates2 ] => { /Users/yamada/bioinformatics/drbonodojo/datadojo/3-5-2-gene/DRR068895_2.fq.gz }\n",
      "### [ output ] => { testis_rep3 }\n",
      "### [ validateMappings ] => { }\n",
      "### [ threads ] => { 4 }\n",
      "Logs will be written to testis_rep3/logs\n",
      "\u001b[00m[2019-10-16 12:33:51.382] [jointLog] [info] Fragment incompatibility prior below threshold.  Incompatible fragments will be ignored.\n",
      "\u001b[00m\u001b[00m[2019-10-16 12:33:51.382] [jointLog] [info] Usage of --validateMappings implies use of minScoreFraction. Since not explicitly specified, it is being set to 0.65\n",
      "\u001b[00m\u001b[00m[2019-10-16 12:33:51.382] [jointLog] [info] Usage of --validateMappings, without --hardFilter implies use of range factorization. rangeFactorizationBins is being set to 4\n",
      "\u001b[00m\u001b[00m[2019-10-16 12:33:51.382] [jointLog] [info] Usage of --validateMappings implies a default consensus slack of 0.2. Setting consensusSlack to 0.2.\n",
      "\u001b[00m\u001b[00m[2019-10-16 12:33:51.382] [jointLog] [info] parsing read library format\n",
      "\u001b[00m\u001b[00m[2019-10-16 12:33:51.382] [jointLog] [info] There is 1 library.\n",
      "\u001b[00m\u001b[00m[2019-10-16 12:33:51.443] [jointLog] [info] Loading Quasi index\n",
      "\u001b[00m\u001b[00m[2019-10-16 12:33:51.443] [jointLog] [info] Loading 32-bit quasi index\n",
      "\u001b[00m\u001b[00m[2019-10-16 12:33:51.443] [stderrLog] [info] Loading Suffix Array \n",
      "\u001b[00m\u001b[00m[2019-10-16 12:33:51.841] [stderrLog] [info] Loading Transcript Info \n",
      "\u001b[00m\u001b[00m[2019-10-16 12:33:51.950] [stderrLog] [info] Loading Rank-Select Bit Array\n",
      "\u001b[00m\u001b[00m[2019-10-16 12:33:51.967] [stderrLog] [info] There were 85,999 set bits in the bit array\n",
      "\u001b[00m\u001b[00m[2019-10-16 12:33:51.971] [stderrLog] [info] Computing transcript lengths\n",
      "\u001b[00m\u001b[00m[2019-10-16 12:33:51.972] [stderrLog] [info] Waiting to finish loading hash\n",
      "\u001b[00m\n",
      "\n",
      "\n",
      "\n",
      "\u001b[00m[2019-10-16 12:33:53.742] [stderrLog] [info] Done loading index\n",
      "\u001b[00m\u001b[00m[2019-10-16 12:33:53.742] [jointLog] [info] done\n",
      "\u001b[00m\u001b[00m[2019-10-16 12:33:53.742] [jointLog] [info] Index contained 85,999 targets\n",
      "\u001b[32mprocessed\u001b[31m 500,000 \u001b[32mfragments\u001b[0m\n",
      "\u001b[32mprocessed\u001b[31m 1,000,000 \u001b[32mfragments\u001b[0m\n",
      "\u001b[32mprocessed\u001b[31m 1,500,000 \u001b[32mfragments\u001b[0m\n",
      "\u001b[32mprocessed\u001b[31m 2,000,000 \u001b[32mfragments\u001b[0m\n",
      "\u001b[32mprocessed\u001b[31m 2,500,000 \u001b[32mfragments\u001b[0m\n",
      "\u001b[32mprocessed\u001b[31m 3,000,000 \u001b[32mfragments\u001b[0m\n",
      "\u001b[32mprocessed\u001b[31m 3,500,000 \u001b[32mfragments\u001b[0m\n",
      "\u001b[32mprocessed\u001b[31m 4,000,000 \u001b[32mfragments\u001b[0m\n",
      "\u001b[32mprocessed\u001b[31m 4,500,000 \u001b[32mfragments\u001b[0m\n",
      "\u001b[32mprocessed\u001b[31m 5,000,000 \u001b[32mfragments\u001b[0m\n",
      "\u001b[32mprocessed\u001b[31m 5,500,000 \u001b[32mfragments\u001b[0m\n",
      "\u001b[32mprocessed\u001b[31m 6,000,000 \u001b[32mfragments\u001b[0m\n",
      "\u001b[32mprocessed\u001b[31m 6,500,000 \u001b[32mfragments\u001b[0m\n",
      "\u001b[32mprocessed\u001b[31m 7,000,000 \u001b[32mfragments\u001b[0m\n",
      "\u001b[32mprocessed\u001b[31m 7,500,000 \u001b[32mfragments\u001b[0m\n",
      "\u001b[32mprocessed\u001b[31m 8,000,000 \u001b[32mfragments\u001b[0m\n",
      "\u001b[32mprocessed\u001b[31m 8,500,000 \u001b[32mfragments\u001b[0m\n",
      "\u001b[32mprocessed\u001b[31m 9,000,000 \u001b[32mfragments\u001b[0m\n",
      "\u001b[32mprocessed\u001b[31m 9,500,000 \u001b[32mfragments\u001b[0m\n",
      "\u001b[32mprocessed\u001b[31m 10,000,000 \u001b[32mfragments\u001b[0m\n",
      "\u001b[32mprocessed\u001b[31m 10,500,000 \u001b[32mfragments\u001b[0m\n",
      "hits: 15,494,853, hits per frag:  1.47757\n",
      "\n",
      "\n",
      "\n",
      "\n",
      "\n",
      "\n",
      "\n",
      "\u001b[00m[2019-10-16 12:35:56.965] [jointLog] [info] Computed 114,800 rich equivalence classes for further processing\n",
      "\u001b[00m\u001b[00m[2019-10-16 12:35:56.965] [jointLog] [info] Counted 6,586,407 total reads in the equivalence classes \n",
      "\u001b[00m\u001b[00m[2019-10-16 12:35:56.970] [jointLog] [info] Number of mappings discarded because of alignment score : 1,061,486\n",
      "\u001b[00m\u001b[00m[2019-10-16 12:35:56.970] [jointLog] [info] Number of fragments entirely discarded because of alignment score : 118,243\n",
      "\u001b[00m\u001b[00m[2019-10-16 12:35:56.970] [jointLog] [info] Number of fragments discarded because they are best-mapped to decoys : 0\n",
      "\u001b[00m\u001b[00m[2019-10-16 12:35:56.970] [jointLog] [info] Number of fragments discarded because they have only dovetail (discordant) mappings : 3,994,561\n",
      "\u001b[00m\u001b[00m[2019-10-16 12:35:56.970] [jointLog] [info] Mapping rate = 60.711%\n",
      "\n",
      "\u001b[00m\u001b[00m[2019-10-16 12:35:56.970] [jointLog] [info] finished quantifyLibrary()\n",
      "\u001b[00m\u001b[00m[2019-10-16 12:35:56.971] [jointLog] [info] Starting optimizer\n",
      "\u001b[00m\u001b[00m[2019-10-16 12:35:57.595] [jointLog] [info] Marked 0 weighted equivalence classes as degenerate\n",
      "\u001b[00m\u001b[00m[2019-10-16 12:35:57.600] [jointLog] [info] iteration = 0 | max rel diff. = 6385.76\n",
      "\u001b[00m\u001b[00m[2019-10-16 12:35:58.134] [jointLog] [info] iteration = 100 | max rel diff. = 11.0901\n",
      "\u001b[00m\u001b[00m[2019-10-16 12:35:58.636] [jointLog] [info] iteration = 200 | max rel diff. = 15.25\n",
      "\u001b[00m\u001b[00m[2019-10-16 12:35:59.126] [jointLog] [info] iteration = 300 | max rel diff. = 1.24199\n",
      "\u001b[00m\u001b[00m[2019-10-16 12:35:59.610] [jointLog] [info] iteration = 400 | max rel diff. = 10.0384\n",
      "\u001b[00m\u001b[00m[2019-10-16 12:36:00.103] [jointLog] [info] iteration = 500 | max rel diff. = 0.103902\n",
      "\u001b[00m\u001b[00m[2019-10-16 12:36:00.596] [jointLog] [info] iteration = 600 | max rel diff. = 0.439746\n",
      "\u001b[00m\u001b[00m[2019-10-16 12:36:01.083] [jointLog] [info] iteration = 700 | max rel diff. = 0.218151\n",
      "\u001b[00m\u001b[00m[2019-10-16 12:36:01.563] [jointLog] [info] iteration = 800 | max rel diff. = 0.198926\n",
      "\u001b[00m\u001b[00m[2019-10-16 12:36:02.041] [jointLog] [info] iteration = 900 | max rel diff. = 0.455714\n",
      "\u001b[00m\u001b[00m[2019-10-16 12:36:02.519] [jointLog] [info] iteration = 1,000 | max rel diff. = 0.29095\n",
      "\u001b[00m\u001b[00m[2019-10-16 12:36:02.995] [jointLog] [info] iteration = 1,100 | max rel diff. = 0.703822\n",
      "\u001b[00m\u001b[00m[2019-10-16 12:36:03.484] [jointLog] [info] iteration = 1,200 | max rel diff. = 0.0639559\n",
      "\u001b[00m\u001b[00m[2019-10-16 12:36:03.970] [jointLog] [info] iteration = 1,300 | max rel diff. = 0.0715335\n",
      "\u001b[00m\u001b[00m[2019-10-16 12:36:04.445] [jointLog] [info] iteration = 1,400 | max rel diff. = 0.0108466\n",
      "\u001b[00m\u001b[00m[2019-10-16 12:36:04.937] [jointLog] [info] iteration = 1,500 | max rel diff. = 0.161357\n",
      "\u001b[00m\u001b[00m[2019-10-16 12:36:05.416] [jointLog] [info] iteration = 1,600 | max rel diff. = 0.121722\n",
      "\u001b[00m\u001b[00m[2019-10-16 12:36:05.726] [jointLog] [info] iteration = 1,667 | max rel diff. = 0.00942553\n",
      "\u001b[00m\u001b[00m[2019-10-16 12:36:05.727] [jointLog] [info] Finished optimizer\n",
      "\u001b[00m\u001b[00m[2019-10-16 12:36:05.727] [jointLog] [info] writing output \n",
      "\n",
      "\u001b[00m\u001b[33m\u001b[1m[2019-10-16 12:36:05.859] [jointLog] [warning] NOTE: Read Lib [[ /Users/yamada/bioinformatics/drbonodojo/datadojo/3-5-2-gene/DRR068895_1.fq.gz, /Users/yamada/bioinformatics/drbonodojo/datadojo/3-5-2-gene/DRR068895_2.fq.gz]] :\n",
      "\n",
      "Detected a *potential* strand bias > 1% in an unstranded protocol check the file: testis_rep3/lib_format_counts.json for details\n",
      "\n",
      "\u001b[00m\n",
      "real\t10m36.978s\n",
      "user\t42m19.022s\n",
      "sys\t0m40.351s\n"
     ]
    }
   ],
   "source": [
    "#salmonを使った発現定量\n",
    "!chmod 755 ./align_and_estimate_abundance.pl\n",
    "!time ./align_and_estimate_abundance.pl --thread_count 4 --transcripts trinity_out_dir/Trinity.fasta --seqType fq --samples_file samples.txt --est_method salmon --salmon_add_opts \"--validateMappings\" --prep_reference"
   ]
  },
  {
   "cell_type": "code",
   "execution_count": 15,
   "metadata": {},
   "outputs": [
    {
     "name": "stdout",
     "output_type": "stream",
     "text": [
      "testis_rep1\n",
      "testis_rep2\n",
      "testis_rep3\n"
     ]
    }
   ],
   "source": [
    "#確認\n",
    "!ls | grep testis"
   ]
  },
  {
   "cell_type": "code",
   "execution_count": 16,
   "metadata": {},
   "outputs": [
    {
     "name": "stdout",
     "output_type": "stream",
     "text": [
      "Name    Length  EffectiveLength TPM     NumReads\u001b[m\n",
      "TRINITY_DN2_c0_g1_i1    4006    3795.679        49.550437       1646.000\u001b[m\n",
      "TRINITY_DN13_c0_g1_i3   7244    7033.679        8.728194        537.279\u001b[m\n",
      "TRINITY_DN13_c0_g1_i5   9077    8866.679        0.000000        0.000\u001b[m\n",
      "TRINITY_DN13_c0_g1_i1   9078    8867.679        6.485037        503.286\u001b[m\n",
      "TRINITY_DN13_c0_g1_i2   6924    6713.679        20.603060       1210.557\u001b[m\n",
      "TRINITY_DN13_c0_g1_i4   9077    8866.679        16.777082       1301.878\u001b[m\n",
      "TRINITY_DN13_c0_g2_i2   2811    2600.679        2.192350        49.899\u001b[m\n",
      "TRINITY_DN13_c0_g2_i1   2620    2409.679        61.032427       1287.101\u001b[m\n",
      "TRINITY_DN13_c1_g1_i1   214     37.677  0.000000        0.000\u001b[m\n",
      "TRINITY_DN13_c1_g1_i2   264     73.480  1.555035        1.000\u001b[m\n",
      "TRINITY_DN1_c0_g1_i1    2567    2356.679        211.685159      4366.000\u001b[m\n",
      "TRINITY_DN1_c1_g1_i2    2086    1875.679        0.873358        14.337\u001b[m\n",
      "TRINITY_DN1_c1_g1_i6    1815    1604.679        0.521389        7.322\u001b[m\n",
      "TRINITY_DN1_c1_g1_i1    1529    1318.679        0.289518        3.341\u001b[m\n",
      "TRINITY_DN8_c0_g1_i3    4732    4521.679        36.705317       1452.518\u001b[m\n",
      "TRINITY_DN8_c0_g1_i14   2309    2098.679        0.000000        0.000\u001b[m\n",
      "TRINITY_DN8_c0_g1_i5    1576    1365.679        65.428233       782.000\u001b[m\n",
      "TRINITY_DN8_c0_g1_i11   2469    2258.679        43.215167       854.247\u001b[m\n",
      "TRINITY_DN8_c0_g1_i10   1091    880.679 14.914310       114.951\u001b[m\n",
      "TRINITY_DN8_c0_g1_i7    2684    2473.679        26.223790       567.717\u001b[m\n",
      "TRINITY_DN8_c0_g1_i16   1042    831.679 85.929587       625.448\u001b[m\n",
      "TRINITY_DN8_c0_g1_i15   724     513.745 82.292680       370.000\u001b[m\n",
      "\u001b[KTRINITY_DN8_c0_g1_i4    1166    955.679 3.951388        33.049\u001b[m\n",
      ":\u001b[K"
     ]
    }
   ],
   "source": [
    "#定量結果の確認\n",
    "!less testis_rep1/quant.sf"
   ]
  },
  {
   "cell_type": "markdown",
   "metadata": {},
   "source": [
    "### タンパク質コード配列の予測"
   ]
  },
  {
   "cell_type": "markdown",
   "metadata": {},
   "source": [
    "3.4章「ドメイン解析」でのTransDecoderを使用できる。"
   ]
  }
 ],
 "metadata": {
  "file_extension": ".py",
  "kernelspec": {
   "display_name": "Python 3",
   "language": "python",
   "name": "python3"
  },
  "language_info": {
   "codemirror_mode": {
    "name": "ipython",
    "version": 3
   },
   "file_extension": ".py",
   "mimetype": "text/x-python",
   "name": "python",
   "nbconvert_exporter": "python",
   "pygments_lexer": "ipython3",
   "version": "3.7.3"
  },
  "mimetype": "text/x-python",
  "name": "python",
  "npconvert_exporter": "python",
  "pygments_lexer": "ipython3",
  "toc": {
   "base_numbering": 1,
   "nav_menu": {},
   "number_sections": true,
   "sideBar": true,
   "skip_h1_title": false,
   "title_cell": "Table of Contents",
   "title_sidebar": "Contents",
   "toc_cell": false,
   "toc_position": {},
   "toc_section_display": true,
   "toc_window_display": false
  },
  "version": 3
 },
 "nbformat": 4,
 "nbformat_minor": 2
}
